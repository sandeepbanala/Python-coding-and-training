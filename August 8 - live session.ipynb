{
 "cells": [
  {
   "cell_type": "code",
   "execution_count": 3,
   "metadata": {},
   "outputs": [],
   "source": [
    "def getnumbers():\n",
    "    for x in range(1,11):\n",
    "        print(x*x)"
   ]
  },
  {
   "cell_type": "code",
   "execution_count": 4,
   "metadata": {},
   "outputs": [
    {
     "name": "stdout",
     "output_type": "stream",
     "text": [
      "1\n",
      "4\n",
      "9\n",
      "16\n",
      "25\n",
      "36\n",
      "49\n",
      "64\n",
      "81\n",
      "100\n"
     ]
    }
   ],
   "source": [
    "getnumbers()\n",
    "\n",
    "\n",
    "result=[x**2 for x in range(1,11)]"
   ]
  },
  {
   "cell_type": "code",
   "execution_count": 5,
   "metadata": {},
   "outputs": [
    {
     "data": {
      "text/plain": [
       "[1, 4, 9, 16, 25, 36, 49, 64, 81, 100]"
      ]
     },
     "execution_count": 5,
     "metadata": {},
     "output_type": "execute_result"
    }
   ],
   "source": [
    "result"
   ]
  },
  {
   "cell_type": "code",
   "execution_count": 13,
   "metadata": {},
   "outputs": [
    {
     "data": {
      "text/plain": [
       "[2, 3, 4, 5, 6, 7, 8, 9, 10, 11]"
      ]
     },
     "execution_count": 13,
     "metadata": {},
     "output_type": "execute_result"
    }
   ],
   "source": [
    "res1=[ x+1 for x in range(1,11)]\n",
    "res1"
   ]
  },
  {
   "cell_type": "code",
   "execution_count": 10,
   "metadata": {},
   "outputs": [
    {
     "data": {
      "text/plain": [
       "['apple', 'orange']"
      ]
     },
     "execution_count": 10,
     "metadata": {},
     "output_type": "execute_result"
    }
   ],
   "source": [
    "fruits=[\"apple\",\"banana\",\"mango\",\"cherry\",\"orange\"]\n",
    "[x for x in fruits if x[0] in 'aeiou']"
   ]
  },
  {
   "cell_type": "code",
   "execution_count": 11,
   "metadata": {},
   "outputs": [
    {
     "data": {
      "text/plain": [
       "[2, 3, 4, 5, 6, 7, 8, 9, 10, 11]"
      ]
     },
     "execution_count": 11,
     "metadata": {},
     "output_type": "execute_result"
    }
   ],
   "source": [
    "res1=[ x+1 for x in range(1,11)]\n",
    "res1"
   ]
  },
  {
   "cell_type": "code",
   "execution_count": 16,
   "metadata": {},
   "outputs": [
    {
     "data": {
      "text/plain": [
       "{1: 1, 2: 2, 3: 3, 4: 4, 5: 5}"
      ]
     },
     "execution_count": 16,
     "metadata": {},
     "output_type": "execute_result"
    }
   ],
   "source": [
    "{i:i for i in [1,2,3,4,5]}"
   ]
  },
  {
   "cell_type": "code",
   "execution_count": 18,
   "metadata": {},
   "outputs": [
    {
     "data": {
      "text/plain": [
       "{1: 1, 2: 4, 3: 9, 4: 16, 5: 25}"
      ]
     },
     "execution_count": 18,
     "metadata": {},
     "output_type": "execute_result"
    }
   ],
   "source": [
    "{i:i*i for i in [1,2,3,4,5]}"
   ]
  },
  {
   "cell_type": "code",
   "execution_count": 22,
   "metadata": {},
   "outputs": [
    {
     "data": {
      "text/plain": [
       "{'red': 3, 'green': 5, 'blue': 4, 'oragne': 6, 'cyan': 4}"
      ]
     },
     "execution_count": 22,
     "metadata": {},
     "output_type": "execute_result"
    }
   ],
   "source": [
    "color=[\"red\",\"green\",\"blue\",\"oragne\",\"cyan\"]\n",
    "{color:len(color) for color in colors}"
   ]
  },
  {
   "cell_type": "code",
   "execution_count": 25,
   "metadata": {},
   "outputs": [
    {
     "name": "stdout",
     "output_type": "stream",
     "text": [
      "Weight in Pound  181 Weight in KG  81.45\n",
      "Weight in Pound  127 Weight in KG  57.15\n",
      "Weight in Pound  165 Weight in KG  74.25\n",
      "Weight in Pound  210 Weight in KG  94.5\n",
      "Weight in Pound  125 Weight in KG  56.25\n",
      "Weight in Pound  175 Weight in KG  78.75\n"
     ]
    }
   ],
   "source": [
    "weight_in_pounds=[181,127,165,210,125,175]\n",
    "out3={weight:weight*0.45 for weight in weight_in_pounds}\n",
    "for key in  out3:\n",
    "    print('Weight in Pound ',key, 'Weight in KG ',out3[key])"
   ]
  },
  {
   "cell_type": "code",
   "execution_count": 26,
   "metadata": {},
   "outputs": [
    {
     "data": {
      "text/plain": [
       "['ram', 'kumar']"
      ]
     },
     "execution_count": 26,
     "metadata": {},
     "output_type": "execute_result"
    }
   ],
   "source": [
    "u=\"ram kumar\"\n",
    "u.split(' ')"
   ]
  },
  {
   "cell_type": "code",
   "execution_count": 30,
   "metadata": {},
   "outputs": [
    {
     "ename": "SyntaxError",
     "evalue": "invalid syntax (<ipython-input-30-024582f03586>, line 9)",
     "output_type": "error",
     "traceback": [
      "\u001b[1;36m  File \u001b[1;32m\"<ipython-input-30-024582f03586>\"\u001b[1;36m, line \u001b[1;32m9\u001b[0m\n\u001b[1;33m    [u.split(' ')[1]\".\"u.split(' ')[0][0]+for u in users]\u001b[0m\n\u001b[1;37m                      ^\u001b[0m\n\u001b[1;31mSyntaxError\u001b[0m\u001b[1;31m:\u001b[0m invalid syntax\n"
     ]
    }
   ],
   "source": [
    "users=[\"Ram Kumar\",\"Mohit Sharma\",\"Sooraj Yadav\",\"Aditya Barjatya\"]\n",
    "\n",
    "#Expected output:\n",
    "\n",
    "# Kumar.R\n",
    "# Sharma.M\n",
    "# Yadav.S\n",
    "# Barjatya.A\n",
    "[u.split(' ')[1]\".\"u.split(' ')[0][0]+for u in users]"
   ]
  },
  {
   "cell_type": "code",
   "execution_count": 32,
   "metadata": {},
   "outputs": [
    {
     "data": {
      "text/plain": [
       "6"
      ]
     },
     "execution_count": 32,
     "metadata": {},
     "output_type": "execute_result"
    }
   ],
   "source": [
    "getNext = lambda x : x+1\n",
    "getNext(5)"
   ]
  },
  {
   "cell_type": "code",
   "execution_count": 33,
   "metadata": {},
   "outputs": [],
   "source": [
    "pound_kg= lambda x : x*0.45"
   ]
  },
  {
   "cell_type": "code",
   "execution_count": 34,
   "metadata": {},
   "outputs": [
    {
     "data": {
      "text/plain": [
       "81.0"
      ]
     },
     "execution_count": 34,
     "metadata": {},
     "output_type": "execute_result"
    }
   ],
   "source": [
    "pound_kg(180)"
   ]
  },
  {
   "cell_type": "code",
   "execution_count": 35,
   "metadata": {},
   "outputs": [
    {
     "data": {
      "text/plain": [
       "405.0"
      ]
     },
     "execution_count": 35,
     "metadata": {},
     "output_type": "execute_result"
    }
   ],
   "source": [
    "pound_kg(900)"
   ]
  },
  {
   "cell_type": "code",
   "execution_count": 36,
   "metadata": {},
   "outputs": [
    {
     "data": {
      "text/plain": [
       "5"
      ]
     },
     "execution_count": 36,
     "metadata": {},
     "output_type": "execute_result"
    }
   ],
   "source": [
    "guess = lambda x,y:x+y\n",
    "guess(2,3)"
   ]
  },
  {
   "cell_type": "code",
   "execution_count": 40,
   "metadata": {},
   "outputs": [
    {
     "data": {
      "text/plain": [
       "'peednaS'"
      ]
     },
     "execution_count": 40,
     "metadata": {},
     "output_type": "execute_result"
    }
   ],
   "source": [
    "rev = lambda name : name[::-1]\n",
    "rev('Sandeep')"
   ]
  },
  {
   "cell_type": "code",
   "execution_count": 41,
   "metadata": {},
   "outputs": [
    {
     "data": {
      "text/plain": [
       "'aharajnukamahtawhsa'"
      ]
     },
     "execution_count": 41,
     "metadata": {},
     "output_type": "execute_result"
    }
   ],
   "source": [
    "rev('ashwathamakunjaraha')"
   ]
  },
  {
   "cell_type": "code",
   "execution_count": 43,
   "metadata": {},
   "outputs": [
    {
     "data": {
      "text/plain": [
       "True"
      ]
     },
     "execution_count": 43,
     "metadata": {},
     "output_type": "execute_result"
    }
   ],
   "source": [
    "agecheck= lambda age : (age>=18)\n",
    "agecheck(19)"
   ]
  },
  {
   "cell_type": "code",
   "execution_count": 44,
   "metadata": {},
   "outputs": [
    {
     "data": {
      "text/plain": [
       "False"
      ]
     },
     "execution_count": 44,
     "metadata": {},
     "output_type": "execute_result"
    }
   ],
   "source": [
    "agecheck(8)"
   ]
  },
  {
   "cell_type": "code",
   "execution_count": 46,
   "metadata": {},
   "outputs": [
    {
     "ename": "NameError",
     "evalue": "name 'getssquare' is not defined",
     "output_type": "error",
     "traceback": [
      "\u001b[1;31m---------------------------------------------------------------------------\u001b[0m",
      "\u001b[1;31mNameError\u001b[0m                                 Traceback (most recent call last)",
      "\u001b[1;32m<ipython-input-46-9493cdf3558c>\u001b[0m in \u001b[0;36m<module>\u001b[1;34m\u001b[0m\n\u001b[1;32m----> 1\u001b[1;33m \u001b[0mmap\u001b[0m\u001b[1;33m(\u001b[0m\u001b[1;33m[\u001b[0m\u001b[1;36m1\u001b[0m\u001b[1;33m,\u001b[0m\u001b[1;36m2\u001b[0m\u001b[1;33m,\u001b[0m\u001b[1;36m3\u001b[0m\u001b[1;33m,\u001b[0m\u001b[1;36m4\u001b[0m\u001b[1;33m]\u001b[0m\u001b[1;33m,\u001b[0m \u001b[0mgetssquare\u001b[0m\u001b[1;33m)\u001b[0m\u001b[1;33m\u001b[0m\u001b[1;33m\u001b[0m\u001b[0m\n\u001b[0m",
      "\u001b[1;31mNameError\u001b[0m: name 'getssquare' is not defined"
     ]
    }
   ],
   "source": []
  },
  {
   "cell_type": "code",
   "execution_count": 47,
   "metadata": {},
   "outputs": [],
   "source": [
    "numbers=[1,2,3,4,5,6,7,8,9,10]"
   ]
  },
  {
   "cell_type": "code",
   "execution_count": 49,
   "metadata": {},
   "outputs": [
    {
     "ename": "IndentationError",
     "evalue": "expected an indented block (<ipython-input-49-331e8d09b7e3>, line 2)",
     "output_type": "error",
     "traceback": [
      "\u001b[1;36m  File \u001b[1;32m\"<ipython-input-49-331e8d09b7e3>\"\u001b[1;36m, line \u001b[1;32m2\u001b[0m\n\u001b[1;33m    return x*x\u001b[0m\n\u001b[1;37m         ^\u001b[0m\n\u001b[1;31mIndentationError\u001b[0m\u001b[1;31m:\u001b[0m expected an indented block\n"
     ]
    }
   ],
   "source": [
    "def getSquare(x):\n",
    "return x*x"
   ]
  },
  {
   "cell_type": "code",
   "execution_count": 52,
   "metadata": {},
   "outputs": [
    {
     "ename": "SyntaxError",
     "evalue": "invalid syntax (<ipython-input-52-412d522cea24>, line 2)",
     "output_type": "error",
     "traceback": [
      "\u001b[1;36m  File \u001b[1;32m\"<ipython-input-52-412d522cea24>\"\u001b[1;36m, line \u001b[1;32m2\u001b[0m\n\u001b[1;33m    result = map(lambda n:n8n:numbers)\u001b[0m\n\u001b[1;37m                             ^\u001b[0m\n\u001b[1;31mSyntaxError\u001b[0m\u001b[1;31m:\u001b[0m invalid syntax\n"
     ]
    }
   ],
   "source": [
    "result=map(getSqaure,numbers)\n",
    "result = map(lambda n:n8n:numbers)"
   ]
  },
  {
   "cell_type": "code",
   "execution_count": 60,
   "metadata": {},
   "outputs": [],
   "source": [
    "colors=[\"Red\",\"Green\",\"Blue\",\"Orange\",\"Cyan\"]\n",
    "res1= list(map(lambda c:c.upper(), colors))"
   ]
  },
  {
   "cell_type": "code",
   "execution_count": 56,
   "metadata": {},
   "outputs": [
    {
     "data": {
      "text/plain": [
       "['RED', 'GREEN', 'BLUE', 'ORANGE', 'CYAN']"
      ]
     },
     "execution_count": 56,
     "metadata": {},
     "output_type": "execute_result"
    }
   ],
   "source": [
    "res1"
   ]
  },
  {
   "cell_type": "code",
   "execution_count": 62,
   "metadata": {},
   "outputs": [],
   "source": [
    "salary=[5000,15000,25000,40000]\n",
    "result=list(map(lambda x:x+5000, salary))"
   ]
  },
  {
   "cell_type": "code",
   "execution_count": 63,
   "metadata": {},
   "outputs": [
    {
     "data": {
      "text/plain": [
       "[10000, 20000, 30000, 45000]"
      ]
     },
     "execution_count": 63,
     "metadata": {},
     "output_type": "execute_result"
    }
   ],
   "source": [
    "result"
   ]
  },
  {
   "cell_type": "code",
   "execution_count": 64,
   "metadata": {},
   "outputs": [
    {
     "data": {
      "text/plain": [
       "[2, 4, 6, 8, 10]"
      ]
     },
     "execution_count": 64,
     "metadata": {},
     "output_type": "execute_result"
    }
   ],
   "source": [
    "num=[1,2,3,4,5,6,7,8,9,10]\n",
    "list(filter(lambda n: n%2==0,num))"
   ]
  },
  {
   "cell_type": "code",
   "execution_count": 66,
   "metadata": {},
   "outputs": [
    {
     "data": {
      "text/plain": [
       "['awesome', 'aww']"
      ]
     },
     "execution_count": 66,
     "metadata": {},
     "output_type": "execute_result"
    }
   ],
   "source": [
    "items=['banana','awesome','pendrive','cool','aww']\n",
    "list(filter(lambda item : item[0]=='a', items))"
   ]
  },
  {
   "cell_type": "code",
   "execution_count": 69,
   "metadata": {},
   "outputs": [
    {
     "data": {
      "text/plain": [
       "[100, 200, 300]"
      ]
     },
     "execution_count": 69,
     "metadata": {},
     "output_type": "execute_result"
    }
   ],
   "source": [
    "garbage=['hi',100,'hello',True,200,False,'welcome',300]\n",
    "list(filter(lambda g:type(g)==int, garbage))"
   ]
  },
  {
   "cell_type": "code",
   "execution_count": 70,
   "metadata": {},
   "outputs": [],
   "source": [
    "mylist=[1,2,3,4,5,6,7,8,9,10]"
   ]
  },
  {
   "cell_type": "code",
   "execution_count": 76,
   "metadata": {},
   "outputs": [],
   "source": [
    "def sum(x,y):\n",
    "    print('x', x,'y',y)\n",
    "    return x+y"
   ]
  },
  {
   "cell_type": "code",
   "execution_count": 72,
   "metadata": {},
   "outputs": [
    {
     "ename": "SyntaxError",
     "evalue": "'return' outside function (<ipython-input-72-9b32c1431b19>, line 1)",
     "output_type": "error",
     "traceback": [
      "\u001b[1;36m  File \u001b[1;32m\"<ipython-input-72-9b32c1431b19>\"\u001b[1;36m, line \u001b[1;32m1\u001b[0m\n\u001b[1;33m    return\u001b[0m\n\u001b[1;37m          ^\u001b[0m\n\u001b[1;31mSyntaxError\u001b[0m\u001b[1;31m:\u001b[0m 'return' outside function\n"
     ]
    }
   ],
   "source": [
    "return"
   ]
  },
  {
   "cell_type": "code",
   "execution_count": 77,
   "metadata": {},
   "outputs": [
    {
     "name": "stdout",
     "output_type": "stream",
     "text": [
      "x 1 y 2\n",
      "x 3 y 3\n",
      "x 6 y 4\n",
      "x 10 y 5\n",
      "x 15 y 6\n",
      "x 21 y 7\n",
      "x 28 y 8\n",
      "x 36 y 9\n",
      "x 45 y 10\n"
     ]
    },
    {
     "data": {
      "text/plain": [
       "55"
      ]
     },
     "execution_count": 77,
     "metadata": {},
     "output_type": "execute_result"
    }
   ],
   "source": [
    "from functools import reduce\n",
    "reduce(sum,mylist)"
   ]
  },
  {
   "cell_type": "code",
   "execution_count": 78,
   "metadata": {},
   "outputs": [
    {
     "data": {
      "text/plain": [
       "55"
      ]
     },
     "execution_count": 78,
     "metadata": {},
     "output_type": "execute_result"
    }
   ],
   "source": [
    "reduce (lambda x,y :x+y,mylist)"
   ]
  },
  {
   "cell_type": "code",
   "execution_count": null,
   "metadata": {},
   "outputs": [],
   "source": []
  },
  {
   "cell_type": "code",
   "execution_count": null,
   "metadata": {},
   "outputs": [],
   "source": [
    "pokemons = open('d:\\\\pokemon.csv').readlines()"
   ]
  },
  {
   "cell_type": "code",
   "execution_count": 84,
   "metadata": {},
   "outputs": [],
   "source": [
    "pokemons = open('d:\\\\pokemon.csv').readlines()"
   ]
  },
  {
   "cell_type": "code",
   "execution_count": 87,
   "metadata": {},
   "outputs": [],
   "source": [
    "#pokemons=pokemons[1:]\n",
    "del pokemons[0]"
   ]
  },
  {
   "cell_type": "code",
   "execution_count": 86,
   "metadata": {},
   "outputs": [
    {
     "name": "stdout",
     "output_type": "stream",
     "text": [
      "['Bulbasaur,Grass\\n', 'Ivysaur,Grass\\n', 'Venusaur,Grass\\n', 'Charmander,Fire\\n', 'Charmeleon,Fire\\n', 'Charizard,Fire\\n', 'Squirtle,Water\\n', 'Wartortle,Water\\n', 'Blastoise,Water\\n', 'Caterpie,Bug\\n', 'Metapod,Bug\\n', 'Butterfree,Bug\\n', 'Weedle,Bug\\n', 'Kakuna,Bug\\n', 'Beedrill,Bug\\n', 'Pidgey,Normal\\n', 'Pidgeotto,Normal\\n', 'Pidgeot,Normal\\n', 'Rattata,Normal\\n', 'Raticate,Normal\\n', 'Spearow,Normal\\n', 'Fearow,Normal\\n', 'Ekans,Poison\\n', 'Arbok,Poison\\n', 'Pikachu,Electric\\n', 'Raichu,Electric\\n', 'Sandshrew,Ground\\n', 'Sandslash,Ground\\n', 'Nidoran,Poison\\n', 'Nidorina,Poison\\n', 'Nidoqueen,Poison\\n', 'Nidoranâ™‚,Poison\\n', 'Nidorino,Poison\\n', 'Nidoking,Poison\\n', 'Clefairy,Fairy\\n', 'Clefable,Fairy\\n', 'Vulpix,Fire\\n', 'Ninetales,Fire\\n', 'Jigglypuff,Normal\\n', 'Wigglytuff,Normal\\n', 'Zubat,Poison\\n', 'Golbat,Poison\\n', 'Oddish,Grass\\n', 'Gloom,Grass\\n', 'Vileplume,Grass\\n', 'Paras,Bug\\n', 'Parasect,Bug\\n', 'Venonat,Bug\\n', 'Venomoth,Bug\\n', 'Diglett,Ground\\n', 'Dugtrio,Ground\\n', 'Meowth,Normal\\n', 'Persian,Normal\\n', 'Psyduck,Water\\n', 'Golduck,Water\\n', 'Mankey,Fighting\\n', 'Primeape,Fighting\\n', 'Growlithe,Fire\\n', 'Arcanine,Fire\\n', 'Poliwag,Water\\n', 'Poliwhirl,Water\\n', 'Poliwrath,Water\\n', 'Abra,Psychic\\n', 'Kadabra,Psychic\\n', 'Alakazam,Psychic\\n', 'Machop,Fighting\\n', 'Machoke,Fighting\\n', 'Machamp,Fighting\\n', 'Bellsprout,Grass\\n', 'Weepinbell,Grass\\n', 'Victreebel,Grass\\n', 'Tentacool,Water\\n', 'Tentacruel,Water\\n', 'Geodude,Rock\\n', 'Graveler,Rock\\n', 'Golem,Rock\\n', 'Ponyta,Fire\\n', 'Rapidash,Fire\\n', 'Slowpoke,Water\\n', 'Slowbro,Water\\n', 'Magnemite,Electric\\n', 'Magneton,Electric\\n', \"Farfetch'd,Normal\\n\", 'Doduo,Normal\\n', 'Dodrio,Normal\\n', 'Seel,Water\\n', 'Dewgong,Water\\n', 'Grimer,Poison\\n', 'Muk,Poison\\n', 'Shellder,Water\\n', 'Cloyster,Water\\n', 'Gastly,Ghost\\n', 'Haunter,Ghost\\n', 'Gengar,Ghost\\n', 'Onix,Rock\\n', 'Drowzee,Psychic\\n', 'Hypno,Psychic\\n', 'Krabby,Water\\n', 'Kingler,Water\\n', 'Voltorb,Electric\\n', 'Electrode,Electric\\n', 'Exeggcute,Grass\\n', 'Exeggutor,Grass\\n', 'Cubone,Ground\\n', 'Marowak,Ground\\n', 'Hitmonlee,Fighting\\n', 'Hitmonchan,Fighting\\n', 'Lickitung,Normal\\n', 'Koffing,Poison\\n', 'Weezing,Poison\\n', 'Rhyhorn,Ground\\n', 'Rhydon,Ground\\n', 'Chansey,Normal\\n', 'Tangela,Grass\\n', 'Kangaskhan,Normal\\n', 'Horsea,Water\\n', 'Seadra,Water\\n', 'Goldeen,Water\\n', 'Seaking,Water\\n', 'Staryu,Water\\n', 'Starmie,Water\\n', 'Mr. Mime,Psychic\\n', 'Scyther,Bug\\n', 'Jynx,Ice\\n', 'Electabuzz,Electric\\n', 'Magmar,Fire\\n', 'Pinsir,Bug\\n', 'Tauros,Normal\\n', 'Magikarp,Water\\n', 'Gyarados,Water\\n', 'Lapras,Water\\n', 'Ditto,Normal\\n', 'Eevee,Normal\\n', 'Vaporeon,Water\\n', 'Jolteon,Electric\\n', 'Flareon,Fire\\n', 'Porygon,Normal\\n', 'Omanyte,Rock\\n', 'Omastar,Rock\\n', 'Kabuto,Rock\\n', 'Kabutops,Rock\\n', 'Aerodactyl,Rock\\n', 'Snorlax,Normal\\n', 'Articuno,Ice\\n', 'Zapdos,Electric\\n', 'Moltres,Fire\\n', 'Dratini,Dragon\\n', 'Dragonair,Dragon\\n', 'Dragonite,Dragon\\n', 'Mewtwo,Psychic\\n', 'Mew,Psychic\\n', 'Chikorita,Grass\\n', 'Bayleef,Grass\\n', 'Meganium,Grass\\n', 'Cyndaquil,Fire\\n', 'Quilava,Fire\\n', 'Typhlosion,Fire\\n', 'Totodile,Water\\n', 'Croconaw,Water\\n', 'Feraligatr,Water\\n', 'Sentret,Normal\\n', 'Furret,Normal\\n', 'Hoothoot,Normal\\n', 'Noctowl,Normal\\n', 'Ledyba,Bug\\n', 'Ledian,Bug\\n', 'Spinarak,Bug\\n', 'Ariados,Bug\\n', 'Crobat,Poison\\n', 'Chinchou,Water\\n', 'Lanturn,Water\\n', 'Pichu,Electric\\n', 'Cleffa,Fairy\\n', 'Igglybuff,Normal\\n', 'Togepi,Fairy\\n', 'Togetic,Fairy\\n', 'Natu,Psychic\\n', 'Xatu,Psychic\\n', 'Mareep,Electric\\n', 'Flaaffy,Electric\\n', 'Ampharos,Electric\\n', 'Bellossom,Grass\\n', 'Marill,Water\\n', 'Azumarill,Water\\n', 'Sudowoodo,Rock\\n', 'Politoed,Water\\n', 'Hoppip,Grass\\n', 'Skiploom,Grass\\n', 'Jumpluff,Grass\\n', 'Aipom,Normal\\n', 'Sunkern,Grass\\n', 'Sunflora,Grass\\n', 'Yanma,Bug\\n', 'Wooper,Water\\n', 'Quagsire,Water\\n', 'Espeon,Psychic\\n', 'Umbreon,Dark\\n', 'Murkrow,Dark\\n', 'Slowking,Water\\n', 'Misdreavus,Ghost\\n', 'Unown,Psychic\\n', 'Wobbuffet,Psychic\\n', 'Girafarig,Normal\\n', 'Pineco,Bug\\n', 'Forretress,Bug\\n', 'Dunsparce,Normal\\n', 'Gligar,Ground\\n', 'Steelix,Steel\\n', 'Snubbull,Fairy\\n', 'Granbull,Fairy\\n', 'Qwilfish,Water\\n', 'Scizor,Bug\\n', 'Shuckle,Bug\\n', 'Heracross,Bug\\n', 'Sneasel,Dark\\n', 'Teddiursa,Normal\\n', 'Ursaring,Normal\\n', 'Slugma,Fire\\n', 'Magcargo,Fire\\n', 'Swinub,Ice\\n', 'Piloswine,Ice\\n', 'Corsola,Water\\n', 'Remoraid,Water\\n', 'Octillery,Water\\n', 'Delibird,Ice\\n', 'Mantine,Water\\n', 'Skarmory,Steel\\n', 'Houndour,Dark\\n', 'Houndoom,Dark\\n', 'Kingdra,Water\\n', 'Phanpy,Ground\\n', 'Donphan,Ground\\n', 'Porygon2,Normal\\n', 'Stantler,Normal\\n', 'Smeargle,Normal\\n', 'Tyrogue,Fighting\\n', 'Hitmontop,Fighting\\n', 'Smoochum,Ice\\n', 'Elekid,Electric\\n', 'Magby,Fire\\n', 'Miltank,Normal\\n', 'Blissey,Normal\\n', 'Raikou,Electric\\n', 'Entei,Fire\\n', 'Suicune,Water\\n', 'Larvitar,Rock\\n', 'Pupitar,Rock\\n', 'Tyranitar,Rock\\n', 'Lugia,Psychic\\n', 'Ho-oh,Fire\\n', 'Celebi,Psychic\\n', 'Treecko,Grass\\n', 'Grovyle,Grass\\n', 'Sceptile,Grass\\n', 'Torchic,Fire\\n', 'Combusken,Fire\\n', 'Blaziken,Fire\\n', 'Mudkip,Water\\n', 'Marshtomp,Water\\n', 'Swampert,Water\\n', 'Poochyena,Dark\\n', 'Mightyena,Dark\\n', 'Zigzagoon,Normal\\n', 'Linoone,Normal\\n', 'Wurmple,Bug\\n', 'Silcoon,Bug\\n', 'Beautifly,Bug\\n', 'Cascoon,Bug\\n', 'Dustox,Bug\\n', 'Lotad,Water\\n', 'Lombre,Water\\n', 'Ludicolo,Water\\n', 'Seedot,Grass\\n', 'Nuzleaf,Grass\\n', 'Shiftry,Grass\\n', 'Taillow,Normal\\n', 'Swellow,Normal\\n', 'Wingull,Water\\n', 'Pelipper,Water\\n', 'Ralts,Psychic\\n', 'Kirlia,Psychic\\n', 'Gardevoir,Psychic\\n', 'Surskit,Bug\\n', 'Masquerain,Bug\\n', 'Shroomish,Grass\\n', 'Breloom,Grass\\n', 'Slakoth,Normal\\n', 'Vigoroth,Normal\\n', 'Slaking,Normal\\n', 'Nincada,Bug\\n', 'Ninjask,Bug\\n', 'Shedinja,Bug\\n', 'Whismur,Normal\\n', 'Loudred,Normal\\n', 'Exploud,Normal\\n', 'Makuhita,Fighting\\n', 'Hariyama,Fighting\\n', 'Azurill,Normal\\n', 'Nosepass,Rock\\n', 'Skitty,Normal\\n', 'Delcatty,Normal\\n', 'Sableye,Dark\\n', 'Mawile,Steel\\n', 'Aron,Steel\\n', 'Lairon,Steel\\n', 'Aggron,Steel\\n', 'Meditite,Fighting\\n', 'Medicham,Fighting\\n', 'Electrike,Electric\\n', 'Manectric,Electric\\n', 'Plusle,Electric\\n', 'Minun,Electric\\n', 'Volbeat,Bug\\n', 'Illumise,Bug\\n', 'Roselia,Grass\\n', 'Gulpin,Poison\\n', 'Swalot,Poison\\n', 'Carvanha,Water\\n', 'Sharpedo,Water\\n', 'Wailmer,Water\\n', 'Wailord,Water\\n', 'Numel,Fire\\n', 'Camerupt,Fire\\n', 'Torkoal,Fire\\n', 'Spoink,Psychic\\n', 'Grumpig,Psychic\\n', 'Spinda,Normal\\n', 'Trapinch,Ground\\n', 'Vibrava,Ground\\n', 'Flygon,Ground\\n', 'Cacnea,Grass\\n', 'Cacturne,Grass\\n', 'Swablu,Normal\\n', 'Altaria,Dragon\\n', 'Zangoose,Normal\\n', 'Seviper,Poison\\n', 'Lunatone,Rock\\n', 'Solrock,Rock\\n', 'Barboach,Water\\n', 'Whiscash,Water\\n', 'Corphish,Water\\n', 'Crawdaunt,Water\\n', 'Baltoy,Ground\\n', 'Claydol,Ground\\n', 'Lileep,Rock\\n', 'Cradily,Rock\\n', 'Anorith,Rock\\n', 'Armaldo,Rock\\n', 'Feebas,Water\\n', 'Milotic,Water\\n', 'Castform,Normal\\n', 'Kecleon,Normal\\n', 'Shuppet,Ghost\\n', 'Banette,Ghost\\n', 'Duskull,Ghost\\n', 'Dusclops,Ghost\\n', 'Tropius,Grass\\n', 'Chimecho,Psychic\\n', 'Absol,Dark\\n', 'Wynaut,Psychic\\n', 'Snorunt,Ice\\n', 'Glalie,Ice\\n', 'Spheal,Ice\\n', 'Sealeo,Ice\\n', 'Walrein,Ice\\n', 'Clamperl,Water\\n', 'Huntail,Water\\n', 'Gorebyss,Water\\n', 'Relicanth,Water\\n', 'Luvdisc,Water\\n', 'Bagon,Dragon\\n', 'Shelgon,Dragon\\n', 'Salamence,Dragon\\n', 'Beldum,Steel\\n', 'Metang,Steel\\n', 'Metagross,Steel\\n', 'Regirock,Rock\\n', 'Regice,Ice\\n', 'Registeel,Steel\\n', 'Latias,Dragon\\n', 'Latios,Dragon\\n', 'Kyogre,Water\\n', 'Groudon,Ground\\n', 'Rayquaza,Dragon\\n', 'Jirachi,Steel\\n', 'Deoxys,Psychic\\n', 'Turtwig,Grass\\n', 'Grotle,Grass\\n', 'Torterra,Grass\\n', 'Chimchar,Fire\\n', 'Monferno,Fire\\n', 'Infernape,Fire\\n', 'Piplup,Water\\n', 'Prinplup,Water\\n', 'Empoleon,Water\\n', 'Starly,Normal\\n', 'Staravia,Normal\\n', 'Staraptor,Normal\\n', 'Bidoof,Normal\\n', 'Bibarel,Normal\\n', 'Kricketot,Bug\\n', 'Kricketune,Bug\\n', 'Shinx,Electric\\n', 'Luxio,Electric\\n', 'Luxray,Electric\\n', 'Budew,Grass\\n', 'Roserade,Grass\\n', 'Cranidos,Rock\\n', 'Rampardos,Rock\\n', 'Shieldon,Rock\\n', 'Bastiodon,Rock\\n', 'Burmy,Bug\\n', 'Wormadam,Bug\\n', 'Mothim,Bug\\n', 'Combee,Bug\\n', 'Vespiquen,Bug\\n', 'Pachirisu,Electric\\n', 'Buizel,Water\\n', 'Floatzel,Water\\n', 'Cherubi,Grass\\n', 'Cherrim,Grass\\n', 'Shellos,Water\\n', 'Gastrodon,Water\\n', 'Ambipom,Normal\\n', 'Drifloon,Ghost\\n', 'Drifblim,Ghost\\n', 'Buneary,Normal\\n', 'Lopunny,Normal\\n', 'Mismagius,Ghost\\n', 'Honchkrow,Dark\\n', 'Glameow,Normal\\n', 'Purugly,Normal\\n', 'Chingling,Psychic\\n', 'Stunky,Poison\\n', 'Skuntank,Poison\\n', 'Bronzor,Steel\\n', 'Bronzong,Steel\\n', 'Bonsly,Rock\\n', 'Mime Jr.,Psychic\\n', 'Happiny,Normal\\n', 'Chatot,Normal\\n', 'Spiritomb,Ghost\\n', 'Gible,Dragon\\n', 'Gabite,Dragon\\n', 'Garchomp,Dragon\\n', 'Munchlax,Normal\\n', 'Riolu,Fighting\\n', 'Lucario,Fighting\\n', 'Hippopotas,Ground\\n', 'Hippowdon,Ground\\n', 'Skorupi,Poison\\n', 'Drapion,Poison\\n', 'Croagunk,Poison\\n', 'Toxicroak,Poison\\n', 'Carnivine,Grass\\n', 'Finneon,Water\\n', 'Lumineon,Water\\n', 'Mantyke,Water\\n', 'Snover,Grass\\n', 'Abomasnow,Grass\\n', 'Weavile,Dark\\n', 'Magnezone,Electric\\n', 'Lickilicky,Normal\\n', 'Rhyperior,Ground\\n', 'Tangrowth,Grass\\n', 'Electivire,Electric\\n', 'Magmortar,Fire\\n', 'Togekiss,Fairy\\n', 'Yanmega,Bug\\n', 'Leafeon,Grass\\n', 'Glaceon,Ice\\n', 'Gliscor,Ground\\n', 'Mamoswine,Ice\\n', 'Porygon-Z,Normal\\n', 'Gallade,Psychic\\n', 'Probopass,Rock\\n', 'Dusknoir,Ghost\\n', 'Froslass,Ice\\n', 'Rotom,Electric\\n', 'Uxie,Psychic\\n', 'Mesprit,Psychic\\n', 'Azelf,Psychic\\n', 'Dialga,Steel\\n', 'Palkia,Water\\n', 'Heatran,Fire\\n', 'Regigigas,Normal\\n', 'Giratina,Ghost\\n', 'Cresselia,Psychic\\n', 'Phione,Water\\n', 'Manaphy,Water\\n', 'Darkrai,Dark\\n', 'Shaymin,Grass\\n', 'Arceus,Normal\\n', 'Victini,Psychic\\n', 'Snivy,Grass\\n', 'Servine,Grass\\n', 'Serperior,Grass\\n', 'Tepig,Fire\\n', 'Pignite,Fire\\n', 'Emboar,Fire\\n', 'Oshawott,Water\\n', 'Dewott,Water\\n', 'Samurott,Water\\n', 'Patrat,Normal\\n', 'Watchog,Normal\\n', 'Lillipup,Normal\\n', 'Herdier,Normal\\n', 'Stoutland,Normal\\n', 'Purrloin,Dark\\n', 'Liepard,Dark\\n', 'Pansage,Grass\\n', 'Simisage,Grass\\n', 'Pansear,Fire\\n', 'Simisear,Fire\\n', 'Panpour,Water\\n', 'Simipour,Water\\n', 'Munna,Psychic\\n', 'Musharna,Psychic\\n', 'Pidove,Normal\\n', 'Tranquill,Normal\\n', 'Unfezant,Normal\\n', 'Blitzle,Electric\\n', 'Zebstrika,Electric\\n', 'Roggenrola,Rock\\n', 'Boldore,Rock\\n', 'Gigalith,Rock\\n', 'Woobat,Psychic\\n', 'Swoobat,Psychic\\n', 'Drilbur,Ground\\n', 'Excadrill,Ground\\n', 'Audino,Normal\\n', 'Timburr,Fighting\\n', 'Gurdurr,Fighting\\n', 'Conkeldurr,Fighting\\n', 'Tympole,Water\\n', 'Palpitoad,Water\\n', 'Seismitoad,Water\\n', 'Throh,Fighting\\n', 'Sawk,Fighting\\n', 'Sewaddle,Bug\\n', 'Swadloon,Bug\\n', 'Leavanny,Bug\\n', 'Venipede,Bug\\n', 'Whirlipede,Bug\\n', 'Scolipede,Bug\\n', 'Cottonee,Grass\\n', 'Whimsicott,Grass\\n', 'Petilil,Grass\\n', 'Lilligant,Grass\\n', 'Basculin,Water\\n', 'Sandile,Ground\\n', 'Krokorok,Ground\\n', 'Krookodile,Ground\\n', 'Darumaka,Fire\\n', 'Darmanitan,Fire\\n', 'Maractus,Grass\\n', 'Dwebble,Bug\\n', 'Crustle,Bug\\n', 'Scraggy,Dark\\n', 'Scrafty,Dark\\n', 'Sigilyph,Psychic\\n', 'Yamask,Ghost\\n', 'Cofagrigus,Ghost\\n', 'Tirtouga,Water\\n', 'Carracosta,Water\\n', 'Archen,Rock\\n', 'Archeops,Rock\\n', 'Trubbish,Poison\\n', 'Garbodor,Poison\\n', 'Zorua,Dark\\n', 'Zoroark,Dark\\n', 'Minccino,Normal\\n', 'Cinccino,Normal\\n', 'Gothita,Psychic\\n', 'Gothorita,Psychic\\n', 'Gothitelle,Psychic\\n', 'Solosis,Psychic\\n', 'Duosion,Psychic\\n', 'Reuniclus,Psychic\\n', 'Ducklett,Water\\n', 'Swanna,Water\\n', 'Vanillite,Ice\\n', 'Vanillish,Ice\\n', 'Vanilluxe,Ice\\n', 'Deerling,Normal\\n', 'Sawsbuck,Normal\\n', 'Emolga,Electric\\n', 'Karrablast,Bug\\n', 'Escavalier,Bug\\n', 'Foongus,Grass\\n', 'Amoonguss,Grass\\n', 'Frillish,Water\\n', 'Jellicent,Water\\n', 'Alomomola,Water\\n', 'Joltik,Bug\\n', 'Galvantula,Bug\\n', 'Ferroseed,Grass\\n', 'Ferrothorn,Grass\\n', 'Klink,Steel\\n', 'Klang,Steel\\n', 'Klinklang,Steel\\n', 'Tynamo,Electric\\n', 'Eelektrik,Electric\\n', 'Eelektross,Electric\\n', 'Elgyem,Psychic\\n', 'Beheeyem,Psychic\\n', 'Litwick,Ghost\\n', 'Lampent,Ghost\\n', 'Chandelure,Ghost\\n', 'Axew,Dragon\\n', 'Fraxure,Dragon\\n', 'Haxorus,Dragon\\n', 'Cubchoo,Ice\\n', 'Beartic,Ice\\n', 'Cryogonal,Ice\\n', 'Shelmet,Bug\\n', 'Accelgor,Bug\\n', 'Stunfisk,Ground\\n', 'Mienfoo,Fighting\\n', 'Mienshao,Fighting\\n', 'Druddigon,Dragon\\n', 'Golett,Ground\\n', 'Golurk,Ground\\n', 'Pawniard,Dark\\n', 'Bisharp,Dark\\n', 'Bouffalant,Normal\\n', 'Rufflet,Normal\\n', 'Braviary,Normal\\n', 'Vullaby,Dark\\n', 'Mandibuzz,Dark\\n', 'Heatmor,Fire\\n', 'Durant,Bug\\n', 'Deino,Dark\\n', 'Zweilous,Dark\\n', 'Hydreigon,Dark\\n', 'Larvesta,Bug\\n', 'Volcarona,Bug\\n', 'Cobalion,Steel\\n', 'Terrakion,Rock\\n', 'Virizion,Grass\\n', 'Tornadus,Flying\\n', 'Thundurus,Electric\\n', 'Reshiram,Dragon\\n', 'Zekrom,Dragon\\n', 'Landorus,Ground\\n', 'Kyurem,Dragon\\n', 'Keldeo,Water\\n', 'Meloetta,Normal\\n', 'Genesect,Bug\\n', 'Chespin,Grass\\n', 'Quilladin,Grass\\n', 'Chesnaught,Grass\\n', 'Fennekin,Fire\\n', 'Braixen,Fire\\n', 'Delphox,Fire\\n', 'Froakie,Water\\n', 'Frogadier,Water\\n', 'Greninja,Water\\n', 'Bunnelby,Normal\\n', 'Diggersby,Normal\\n', 'Fletchling,Normal\\n', 'Fletchinder,Fire\\n', 'Talonflame,Fire\\n', 'Scatterbug,Bug\\n', 'Spewpa,Bug\\n', 'Vivillon,Bug\\n', 'Litleo,Fire\\n', 'Pyroar,Fire\\n', 'FlabÃ©bÃ©,Fairy\\n', 'Floette,Fairy\\n', 'Florges,Fairy\\n', 'Skiddo,Grass\\n', 'Gogoat,Grass\\n', 'Pancham,Fighting\\n', 'Pangoro,Fighting\\n', 'Furfrou,Normal\\n', 'Espurr,Psychic\\n', 'Meowstic,Psychic\\n', 'Honedge,Steel\\n', 'Doublade,Steel\\n', 'Aegislash,Steel\\n', 'Spritzee,Fairy\\n', 'Aromatisse,Fairy\\n', 'Swirlix,Fairy\\n', 'Slurpuff,Fairy\\n', 'Inkay,Dark\\n', 'Malamar,Dark\\n', 'Binacle,Rock\\n', 'Barbaracle,Rock\\n', 'Skrelp,Poison\\n', 'Dragalge,Poison\\n', 'Clauncher,Water\\n', 'Clawitzer,Water\\n', 'Helioptile,Electric\\n', 'Heliolisk,Electric\\n', 'Tyrunt,Rock\\n', 'Tyrantrum,Rock\\n', 'Amaura,Rock\\n', 'Aurorus,Rock\\n', 'Sylveon,Fairy\\n', 'Hawlucha,Fighting\\n', 'Dedenne,Electric\\n', 'Carbink,Rock\\n', 'Goomy,Dragon\\n', 'Sliggoo,Dragon\\n', 'Goodra,Dragon\\n', 'Klefki,Steel\\n', 'Phantump,Ghost\\n', 'Trevenant,Ghost\\n', 'Pumpkaboo,Ghost\\n', 'Gourgeist,Ghost\\n', 'Bergmite,Ice\\n', 'Avalugg,Ice\\n', 'Noibat,Flying\\n', 'Noivern,Flying\\n', 'Xerneas,Fairy\\n', 'Yveltal,Dark\\n', 'Zygarde,Dragon\\n', 'Diancie,Rock\\n', 'Hoopa,Psychic\\n', 'Volcanion,Fire\\n']\n"
     ]
    }
   ],
   "source": [
    "print(pokemons)"
   ]
  },
  {
   "cell_type": "code",
   "execution_count": 89,
   "metadata": {},
   "outputs": [
    {
     "name": "stdout",
     "output_type": "stream",
     "text": [
      "Total pokemons I have is  720\n"
     ]
    }
   ],
   "source": [
    "print('Total pokemons I have is ',len(pokemons))"
   ]
  },
  {
   "cell_type": "code",
   "execution_count": 90,
   "metadata": {},
   "outputs": [
    {
     "data": {
      "text/plain": [
       "['Ivysaur,Grass\\n',\n",
       " 'Venusaur,Grass\\n',\n",
       " 'Charmander,Fire\\n',\n",
       " 'Charmeleon,Fire\\n',\n",
       " 'Charizard,Fire\\n']"
      ]
     },
     "execution_count": 90,
     "metadata": {},
     "output_type": "execute_result"
    }
   ],
   "source": [
    "top5= pokemons[:5]\n",
    "top5"
   ]
  },
  {
   "cell_type": "code",
   "execution_count": 94,
   "metadata": {},
   "outputs": [],
   "source": [
    "pokemons = open('d:\\\\pokemon.csv').readlines()"
   ]
  },
  {
   "cell_type": "code",
   "execution_count": 95,
   "metadata": {},
   "outputs": [
    {
     "data": {
      "text/plain": [
       "['Bulbasaur,Grass\\n',\n",
       " 'Ivysaur,Grass\\n',\n",
       " 'Venusaur,Grass\\n',\n",
       " 'Charmander,Fire\\n',\n",
       " 'Charmeleon,Fire\\n']"
      ]
     },
     "execution_count": 95,
     "metadata": {},
     "output_type": "execute_result"
    }
   ],
   "source": [
    "del pokemons[0]\n",
    "top5= pokemons[:5]\n",
    "top5"
   ]
  },
  {
   "cell_type": "code",
   "execution_count": 102,
   "metadata": {},
   "outputs": [],
   "source": [
    "\n",
    "title= [pok.split(',')[0] for pok in pokemons]"
   ]
  },
  {
   "cell_type": "code",
   "execution_count": 105,
   "metadata": {},
   "outputs": [
    {
     "data": {
      "text/plain": [
       "['Bulbasaur', 'Ivysaur', 'Venusaur', 'Charmander']"
      ]
     },
     "execution_count": 105,
     "metadata": {},
     "output_type": "execute_result"
    }
   ],
   "source": [
    "title[:4]"
   ]
  },
  {
   "cell_type": "code",
   "execution_count": 108,
   "metadata": {},
   "outputs": [
    {
     "ename": "TypeError",
     "evalue": "map() must have at least two arguments.",
     "output_type": "error",
     "traceback": [
      "\u001b[1;31m---------------------------------------------------------------------------\u001b[0m",
      "\u001b[1;31mTypeError\u001b[0m                                 Traceback (most recent call last)",
      "\u001b[1;32m<ipython-input-108-1f9c252cfacd>\u001b[0m in \u001b[0;36m<module>\u001b[1;34m\u001b[0m\n\u001b[1;32m----> 1\u001b[1;33m \u001b[0mset\u001b[0m\u001b[1;33m(\u001b[0m\u001b[0mmap\u001b[0m\u001b[1;33m(\u001b[0m\u001b[1;32mlambda\u001b[0m \u001b[0mx\u001b[0m\u001b[1;33m:\u001b[0m\u001b[0mx\u001b[0m\u001b[1;33m.\u001b[0m\u001b[0msplit\u001b[0m\u001b[1;33m(\u001b[0m\u001b[1;34m','\u001b[0m\u001b[1;33m)\u001b[0m\u001b[1;33m[\u001b[0m\u001b[1;36m1\u001b[0m\u001b[1;33m]\u001b[0m\u001b[1;33m)\u001b[0m\u001b[1;33m,\u001b[0m\u001b[0mpokemons\u001b[0m\u001b[1;33m)\u001b[0m\u001b[1;33m\u001b[0m\u001b[1;33m\u001b[0m\u001b[0m\n\u001b[0m",
      "\u001b[1;31mTypeError\u001b[0m: map() must have at least two arguments."
     ]
    }
   ],
   "source": []
  },
  {
   "cell_type": "code",
   "execution_count": 109,
   "metadata": {},
   "outputs": [],
   "source": [
    "result =set(map(lambda x:x.split(',')[1].strip(),pokemons))"
   ]
  },
  {
   "cell_type": "code",
   "execution_count": 110,
   "metadata": {},
   "outputs": [
    {
     "data": {
      "text/plain": [
       "{'Bug',\n",
       " 'Dark',\n",
       " 'Dragon',\n",
       " 'Electric',\n",
       " 'Fairy',\n",
       " 'Fighting',\n",
       " 'Fire',\n",
       " 'Flying',\n",
       " 'Ghost',\n",
       " 'Grass',\n",
       " 'Ground',\n",
       " 'Ice',\n",
       " 'Normal',\n",
       " 'Poison',\n",
       " 'Psychic',\n",
       " 'Rock',\n",
       " 'Steel',\n",
       " 'Water'}"
      ]
     },
     "execution_count": 110,
     "metadata": {},
     "output_type": "execute_result"
    }
   ],
   "source": [
    "result"
   ]
  },
  {
   "cell_type": "code",
   "execution_count": 111,
   "metadata": {},
   "outputs": [
    {
     "data": {
      "text/plain": [
       "['Bulbasaur,Grass\\n',\n",
       " 'Ivysaur,Grass\\n',\n",
       " 'Venusaur,Grass\\n',\n",
       " 'Charmander,Fire\\n',\n",
       " 'Charmeleon,Fire\\n',\n",
       " 'Charizard,Fire\\n',\n",
       " 'Squirtle,Water\\n',\n",
       " 'Wartortle,Water\\n',\n",
       " 'Blastoise,Water\\n',\n",
       " 'Caterpie,Bug\\n',\n",
       " 'Metapod,Bug\\n',\n",
       " 'Butterfree,Bug\\n',\n",
       " 'Weedle,Bug\\n',\n",
       " 'Kakuna,Bug\\n',\n",
       " 'Beedrill,Bug\\n',\n",
       " 'Pidgey,Normal\\n',\n",
       " 'Pidgeotto,Normal\\n',\n",
       " 'Pidgeot,Normal\\n',\n",
       " 'Rattata,Normal\\n',\n",
       " 'Raticate,Normal\\n',\n",
       " 'Spearow,Normal\\n',\n",
       " 'Fearow,Normal\\n',\n",
       " 'Ekans,Poison\\n',\n",
       " 'Arbok,Poison\\n',\n",
       " 'Pikachu,Electric\\n',\n",
       " 'Raichu,Electric\\n',\n",
       " 'Sandshrew,Ground\\n',\n",
       " 'Sandslash,Ground\\n',\n",
       " 'Nidoran,Poison\\n',\n",
       " 'Nidorina,Poison\\n',\n",
       " 'Nidoqueen,Poison\\n',\n",
       " 'Nidoranâ™‚,Poison\\n',\n",
       " 'Nidorino,Poison\\n',\n",
       " 'Nidoking,Poison\\n',\n",
       " 'Clefairy,Fairy\\n',\n",
       " 'Clefable,Fairy\\n',\n",
       " 'Vulpix,Fire\\n',\n",
       " 'Ninetales,Fire\\n',\n",
       " 'Jigglypuff,Normal\\n',\n",
       " 'Wigglytuff,Normal\\n',\n",
       " 'Zubat,Poison\\n',\n",
       " 'Golbat,Poison\\n',\n",
       " 'Oddish,Grass\\n',\n",
       " 'Gloom,Grass\\n',\n",
       " 'Vileplume,Grass\\n',\n",
       " 'Paras,Bug\\n',\n",
       " 'Parasect,Bug\\n',\n",
       " 'Venonat,Bug\\n',\n",
       " 'Venomoth,Bug\\n',\n",
       " 'Diglett,Ground\\n',\n",
       " 'Dugtrio,Ground\\n',\n",
       " 'Meowth,Normal\\n',\n",
       " 'Persian,Normal\\n',\n",
       " 'Psyduck,Water\\n',\n",
       " 'Golduck,Water\\n',\n",
       " 'Mankey,Fighting\\n',\n",
       " 'Primeape,Fighting\\n',\n",
       " 'Growlithe,Fire\\n',\n",
       " 'Arcanine,Fire\\n',\n",
       " 'Poliwag,Water\\n',\n",
       " 'Poliwhirl,Water\\n',\n",
       " 'Poliwrath,Water\\n',\n",
       " 'Abra,Psychic\\n',\n",
       " 'Kadabra,Psychic\\n',\n",
       " 'Alakazam,Psychic\\n',\n",
       " 'Machop,Fighting\\n',\n",
       " 'Machoke,Fighting\\n',\n",
       " 'Machamp,Fighting\\n',\n",
       " 'Bellsprout,Grass\\n',\n",
       " 'Weepinbell,Grass\\n',\n",
       " 'Victreebel,Grass\\n',\n",
       " 'Tentacool,Water\\n',\n",
       " 'Tentacruel,Water\\n',\n",
       " 'Geodude,Rock\\n',\n",
       " 'Graveler,Rock\\n',\n",
       " 'Golem,Rock\\n',\n",
       " 'Ponyta,Fire\\n',\n",
       " 'Rapidash,Fire\\n',\n",
       " 'Slowpoke,Water\\n',\n",
       " 'Slowbro,Water\\n',\n",
       " 'Magnemite,Electric\\n',\n",
       " 'Magneton,Electric\\n',\n",
       " \"Farfetch'd,Normal\\n\",\n",
       " 'Doduo,Normal\\n',\n",
       " 'Dodrio,Normal\\n',\n",
       " 'Seel,Water\\n',\n",
       " 'Dewgong,Water\\n',\n",
       " 'Grimer,Poison\\n',\n",
       " 'Muk,Poison\\n',\n",
       " 'Shellder,Water\\n',\n",
       " 'Cloyster,Water\\n',\n",
       " 'Gastly,Ghost\\n',\n",
       " 'Haunter,Ghost\\n',\n",
       " 'Gengar,Ghost\\n',\n",
       " 'Onix,Rock\\n',\n",
       " 'Drowzee,Psychic\\n',\n",
       " 'Hypno,Psychic\\n',\n",
       " 'Krabby,Water\\n',\n",
       " 'Kingler,Water\\n',\n",
       " 'Voltorb,Electric\\n',\n",
       " 'Electrode,Electric\\n',\n",
       " 'Exeggcute,Grass\\n',\n",
       " 'Exeggutor,Grass\\n',\n",
       " 'Cubone,Ground\\n',\n",
       " 'Marowak,Ground\\n',\n",
       " 'Hitmonlee,Fighting\\n',\n",
       " 'Hitmonchan,Fighting\\n',\n",
       " 'Lickitung,Normal\\n',\n",
       " 'Koffing,Poison\\n',\n",
       " 'Weezing,Poison\\n',\n",
       " 'Rhyhorn,Ground\\n',\n",
       " 'Rhydon,Ground\\n',\n",
       " 'Chansey,Normal\\n',\n",
       " 'Tangela,Grass\\n',\n",
       " 'Kangaskhan,Normal\\n',\n",
       " 'Horsea,Water\\n',\n",
       " 'Seadra,Water\\n',\n",
       " 'Goldeen,Water\\n',\n",
       " 'Seaking,Water\\n',\n",
       " 'Staryu,Water\\n',\n",
       " 'Starmie,Water\\n',\n",
       " 'Mr. Mime,Psychic\\n',\n",
       " 'Scyther,Bug\\n',\n",
       " 'Jynx,Ice\\n',\n",
       " 'Electabuzz,Electric\\n',\n",
       " 'Magmar,Fire\\n',\n",
       " 'Pinsir,Bug\\n',\n",
       " 'Tauros,Normal\\n',\n",
       " 'Magikarp,Water\\n',\n",
       " 'Gyarados,Water\\n',\n",
       " 'Lapras,Water\\n',\n",
       " 'Ditto,Normal\\n',\n",
       " 'Eevee,Normal\\n',\n",
       " 'Vaporeon,Water\\n',\n",
       " 'Jolteon,Electric\\n',\n",
       " 'Flareon,Fire\\n',\n",
       " 'Porygon,Normal\\n',\n",
       " 'Omanyte,Rock\\n',\n",
       " 'Omastar,Rock\\n',\n",
       " 'Kabuto,Rock\\n',\n",
       " 'Kabutops,Rock\\n',\n",
       " 'Aerodactyl,Rock\\n',\n",
       " 'Snorlax,Normal\\n',\n",
       " 'Articuno,Ice\\n',\n",
       " 'Zapdos,Electric\\n',\n",
       " 'Moltres,Fire\\n',\n",
       " 'Dratini,Dragon\\n',\n",
       " 'Dragonair,Dragon\\n',\n",
       " 'Dragonite,Dragon\\n',\n",
       " 'Mewtwo,Psychic\\n',\n",
       " 'Mew,Psychic\\n',\n",
       " 'Chikorita,Grass\\n',\n",
       " 'Bayleef,Grass\\n',\n",
       " 'Meganium,Grass\\n',\n",
       " 'Cyndaquil,Fire\\n',\n",
       " 'Quilava,Fire\\n',\n",
       " 'Typhlosion,Fire\\n',\n",
       " 'Totodile,Water\\n',\n",
       " 'Croconaw,Water\\n',\n",
       " 'Feraligatr,Water\\n',\n",
       " 'Sentret,Normal\\n',\n",
       " 'Furret,Normal\\n',\n",
       " 'Hoothoot,Normal\\n',\n",
       " 'Noctowl,Normal\\n',\n",
       " 'Ledyba,Bug\\n',\n",
       " 'Ledian,Bug\\n',\n",
       " 'Spinarak,Bug\\n',\n",
       " 'Ariados,Bug\\n',\n",
       " 'Crobat,Poison\\n',\n",
       " 'Chinchou,Water\\n',\n",
       " 'Lanturn,Water\\n',\n",
       " 'Pichu,Electric\\n',\n",
       " 'Cleffa,Fairy\\n',\n",
       " 'Igglybuff,Normal\\n',\n",
       " 'Togepi,Fairy\\n',\n",
       " 'Togetic,Fairy\\n',\n",
       " 'Natu,Psychic\\n',\n",
       " 'Xatu,Psychic\\n',\n",
       " 'Mareep,Electric\\n',\n",
       " 'Flaaffy,Electric\\n',\n",
       " 'Ampharos,Electric\\n',\n",
       " 'Bellossom,Grass\\n',\n",
       " 'Marill,Water\\n',\n",
       " 'Azumarill,Water\\n',\n",
       " 'Sudowoodo,Rock\\n',\n",
       " 'Politoed,Water\\n',\n",
       " 'Hoppip,Grass\\n',\n",
       " 'Skiploom,Grass\\n',\n",
       " 'Jumpluff,Grass\\n',\n",
       " 'Aipom,Normal\\n',\n",
       " 'Sunkern,Grass\\n',\n",
       " 'Sunflora,Grass\\n',\n",
       " 'Yanma,Bug\\n',\n",
       " 'Wooper,Water\\n',\n",
       " 'Quagsire,Water\\n',\n",
       " 'Espeon,Psychic\\n',\n",
       " 'Umbreon,Dark\\n',\n",
       " 'Murkrow,Dark\\n',\n",
       " 'Slowking,Water\\n',\n",
       " 'Misdreavus,Ghost\\n',\n",
       " 'Unown,Psychic\\n',\n",
       " 'Wobbuffet,Psychic\\n',\n",
       " 'Girafarig,Normal\\n',\n",
       " 'Pineco,Bug\\n',\n",
       " 'Forretress,Bug\\n',\n",
       " 'Dunsparce,Normal\\n',\n",
       " 'Gligar,Ground\\n',\n",
       " 'Steelix,Steel\\n',\n",
       " 'Snubbull,Fairy\\n',\n",
       " 'Granbull,Fairy\\n',\n",
       " 'Qwilfish,Water\\n',\n",
       " 'Scizor,Bug\\n',\n",
       " 'Shuckle,Bug\\n',\n",
       " 'Heracross,Bug\\n',\n",
       " 'Sneasel,Dark\\n',\n",
       " 'Teddiursa,Normal\\n',\n",
       " 'Ursaring,Normal\\n',\n",
       " 'Slugma,Fire\\n',\n",
       " 'Magcargo,Fire\\n',\n",
       " 'Swinub,Ice\\n',\n",
       " 'Piloswine,Ice\\n',\n",
       " 'Corsola,Water\\n',\n",
       " 'Remoraid,Water\\n',\n",
       " 'Octillery,Water\\n',\n",
       " 'Delibird,Ice\\n',\n",
       " 'Mantine,Water\\n',\n",
       " 'Skarmory,Steel\\n',\n",
       " 'Houndour,Dark\\n',\n",
       " 'Houndoom,Dark\\n',\n",
       " 'Kingdra,Water\\n',\n",
       " 'Phanpy,Ground\\n',\n",
       " 'Donphan,Ground\\n',\n",
       " 'Porygon2,Normal\\n',\n",
       " 'Stantler,Normal\\n',\n",
       " 'Smeargle,Normal\\n',\n",
       " 'Tyrogue,Fighting\\n',\n",
       " 'Hitmontop,Fighting\\n',\n",
       " 'Smoochum,Ice\\n',\n",
       " 'Elekid,Electric\\n',\n",
       " 'Magby,Fire\\n',\n",
       " 'Miltank,Normal\\n',\n",
       " 'Blissey,Normal\\n',\n",
       " 'Raikou,Electric\\n',\n",
       " 'Entei,Fire\\n',\n",
       " 'Suicune,Water\\n',\n",
       " 'Larvitar,Rock\\n',\n",
       " 'Pupitar,Rock\\n',\n",
       " 'Tyranitar,Rock\\n',\n",
       " 'Lugia,Psychic\\n',\n",
       " 'Ho-oh,Fire\\n',\n",
       " 'Celebi,Psychic\\n',\n",
       " 'Treecko,Grass\\n',\n",
       " 'Grovyle,Grass\\n',\n",
       " 'Sceptile,Grass\\n',\n",
       " 'Torchic,Fire\\n',\n",
       " 'Combusken,Fire\\n',\n",
       " 'Blaziken,Fire\\n',\n",
       " 'Mudkip,Water\\n',\n",
       " 'Marshtomp,Water\\n',\n",
       " 'Swampert,Water\\n',\n",
       " 'Poochyena,Dark\\n',\n",
       " 'Mightyena,Dark\\n',\n",
       " 'Zigzagoon,Normal\\n',\n",
       " 'Linoone,Normal\\n',\n",
       " 'Wurmple,Bug\\n',\n",
       " 'Silcoon,Bug\\n',\n",
       " 'Beautifly,Bug\\n',\n",
       " 'Cascoon,Bug\\n',\n",
       " 'Dustox,Bug\\n',\n",
       " 'Lotad,Water\\n',\n",
       " 'Lombre,Water\\n',\n",
       " 'Ludicolo,Water\\n',\n",
       " 'Seedot,Grass\\n',\n",
       " 'Nuzleaf,Grass\\n',\n",
       " 'Shiftry,Grass\\n',\n",
       " 'Taillow,Normal\\n',\n",
       " 'Swellow,Normal\\n',\n",
       " 'Wingull,Water\\n',\n",
       " 'Pelipper,Water\\n',\n",
       " 'Ralts,Psychic\\n',\n",
       " 'Kirlia,Psychic\\n',\n",
       " 'Gardevoir,Psychic\\n',\n",
       " 'Surskit,Bug\\n',\n",
       " 'Masquerain,Bug\\n',\n",
       " 'Shroomish,Grass\\n',\n",
       " 'Breloom,Grass\\n',\n",
       " 'Slakoth,Normal\\n',\n",
       " 'Vigoroth,Normal\\n',\n",
       " 'Slaking,Normal\\n',\n",
       " 'Nincada,Bug\\n',\n",
       " 'Ninjask,Bug\\n',\n",
       " 'Shedinja,Bug\\n',\n",
       " 'Whismur,Normal\\n',\n",
       " 'Loudred,Normal\\n',\n",
       " 'Exploud,Normal\\n',\n",
       " 'Makuhita,Fighting\\n',\n",
       " 'Hariyama,Fighting\\n',\n",
       " 'Azurill,Normal\\n',\n",
       " 'Nosepass,Rock\\n',\n",
       " 'Skitty,Normal\\n',\n",
       " 'Delcatty,Normal\\n',\n",
       " 'Sableye,Dark\\n',\n",
       " 'Mawile,Steel\\n',\n",
       " 'Aron,Steel\\n',\n",
       " 'Lairon,Steel\\n',\n",
       " 'Aggron,Steel\\n',\n",
       " 'Meditite,Fighting\\n',\n",
       " 'Medicham,Fighting\\n',\n",
       " 'Electrike,Electric\\n',\n",
       " 'Manectric,Electric\\n',\n",
       " 'Plusle,Electric\\n',\n",
       " 'Minun,Electric\\n',\n",
       " 'Volbeat,Bug\\n',\n",
       " 'Illumise,Bug\\n',\n",
       " 'Roselia,Grass\\n',\n",
       " 'Gulpin,Poison\\n',\n",
       " 'Swalot,Poison\\n',\n",
       " 'Carvanha,Water\\n',\n",
       " 'Sharpedo,Water\\n',\n",
       " 'Wailmer,Water\\n',\n",
       " 'Wailord,Water\\n',\n",
       " 'Numel,Fire\\n',\n",
       " 'Camerupt,Fire\\n',\n",
       " 'Torkoal,Fire\\n',\n",
       " 'Spoink,Psychic\\n',\n",
       " 'Grumpig,Psychic\\n',\n",
       " 'Spinda,Normal\\n',\n",
       " 'Trapinch,Ground\\n',\n",
       " 'Vibrava,Ground\\n',\n",
       " 'Flygon,Ground\\n',\n",
       " 'Cacnea,Grass\\n',\n",
       " 'Cacturne,Grass\\n',\n",
       " 'Swablu,Normal\\n',\n",
       " 'Altaria,Dragon\\n',\n",
       " 'Zangoose,Normal\\n',\n",
       " 'Seviper,Poison\\n',\n",
       " 'Lunatone,Rock\\n',\n",
       " 'Solrock,Rock\\n',\n",
       " 'Barboach,Water\\n',\n",
       " 'Whiscash,Water\\n',\n",
       " 'Corphish,Water\\n',\n",
       " 'Crawdaunt,Water\\n',\n",
       " 'Baltoy,Ground\\n',\n",
       " 'Claydol,Ground\\n',\n",
       " 'Lileep,Rock\\n',\n",
       " 'Cradily,Rock\\n',\n",
       " 'Anorith,Rock\\n',\n",
       " 'Armaldo,Rock\\n',\n",
       " 'Feebas,Water\\n',\n",
       " 'Milotic,Water\\n',\n",
       " 'Castform,Normal\\n',\n",
       " 'Kecleon,Normal\\n',\n",
       " 'Shuppet,Ghost\\n',\n",
       " 'Banette,Ghost\\n',\n",
       " 'Duskull,Ghost\\n',\n",
       " 'Dusclops,Ghost\\n',\n",
       " 'Tropius,Grass\\n',\n",
       " 'Chimecho,Psychic\\n',\n",
       " 'Absol,Dark\\n',\n",
       " 'Wynaut,Psychic\\n',\n",
       " 'Snorunt,Ice\\n',\n",
       " 'Glalie,Ice\\n',\n",
       " 'Spheal,Ice\\n',\n",
       " 'Sealeo,Ice\\n',\n",
       " 'Walrein,Ice\\n',\n",
       " 'Clamperl,Water\\n',\n",
       " 'Huntail,Water\\n',\n",
       " 'Gorebyss,Water\\n',\n",
       " 'Relicanth,Water\\n',\n",
       " 'Luvdisc,Water\\n',\n",
       " 'Bagon,Dragon\\n',\n",
       " 'Shelgon,Dragon\\n',\n",
       " 'Salamence,Dragon\\n',\n",
       " 'Beldum,Steel\\n',\n",
       " 'Metang,Steel\\n',\n",
       " 'Metagross,Steel\\n',\n",
       " 'Regirock,Rock\\n',\n",
       " 'Regice,Ice\\n',\n",
       " 'Registeel,Steel\\n',\n",
       " 'Latias,Dragon\\n',\n",
       " 'Latios,Dragon\\n',\n",
       " 'Kyogre,Water\\n',\n",
       " 'Groudon,Ground\\n',\n",
       " 'Rayquaza,Dragon\\n',\n",
       " 'Jirachi,Steel\\n',\n",
       " 'Deoxys,Psychic\\n',\n",
       " 'Turtwig,Grass\\n',\n",
       " 'Grotle,Grass\\n',\n",
       " 'Torterra,Grass\\n',\n",
       " 'Chimchar,Fire\\n',\n",
       " 'Monferno,Fire\\n',\n",
       " 'Infernape,Fire\\n',\n",
       " 'Piplup,Water\\n',\n",
       " 'Prinplup,Water\\n',\n",
       " 'Empoleon,Water\\n',\n",
       " 'Starly,Normal\\n',\n",
       " 'Staravia,Normal\\n',\n",
       " 'Staraptor,Normal\\n',\n",
       " 'Bidoof,Normal\\n',\n",
       " 'Bibarel,Normal\\n',\n",
       " 'Kricketot,Bug\\n',\n",
       " 'Kricketune,Bug\\n',\n",
       " 'Shinx,Electric\\n',\n",
       " 'Luxio,Electric\\n',\n",
       " 'Luxray,Electric\\n',\n",
       " 'Budew,Grass\\n',\n",
       " 'Roserade,Grass\\n',\n",
       " 'Cranidos,Rock\\n',\n",
       " 'Rampardos,Rock\\n',\n",
       " 'Shieldon,Rock\\n',\n",
       " 'Bastiodon,Rock\\n',\n",
       " 'Burmy,Bug\\n',\n",
       " 'Wormadam,Bug\\n',\n",
       " 'Mothim,Bug\\n',\n",
       " 'Combee,Bug\\n',\n",
       " 'Vespiquen,Bug\\n',\n",
       " 'Pachirisu,Electric\\n',\n",
       " 'Buizel,Water\\n',\n",
       " 'Floatzel,Water\\n',\n",
       " 'Cherubi,Grass\\n',\n",
       " 'Cherrim,Grass\\n',\n",
       " 'Shellos,Water\\n',\n",
       " 'Gastrodon,Water\\n',\n",
       " 'Ambipom,Normal\\n',\n",
       " 'Drifloon,Ghost\\n',\n",
       " 'Drifblim,Ghost\\n',\n",
       " 'Buneary,Normal\\n',\n",
       " 'Lopunny,Normal\\n',\n",
       " 'Mismagius,Ghost\\n',\n",
       " 'Honchkrow,Dark\\n',\n",
       " 'Glameow,Normal\\n',\n",
       " 'Purugly,Normal\\n',\n",
       " 'Chingling,Psychic\\n',\n",
       " 'Stunky,Poison\\n',\n",
       " 'Skuntank,Poison\\n',\n",
       " 'Bronzor,Steel\\n',\n",
       " 'Bronzong,Steel\\n',\n",
       " 'Bonsly,Rock\\n',\n",
       " 'Mime Jr.,Psychic\\n',\n",
       " 'Happiny,Normal\\n',\n",
       " 'Chatot,Normal\\n',\n",
       " 'Spiritomb,Ghost\\n',\n",
       " 'Gible,Dragon\\n',\n",
       " 'Gabite,Dragon\\n',\n",
       " 'Garchomp,Dragon\\n',\n",
       " 'Munchlax,Normal\\n',\n",
       " 'Riolu,Fighting\\n',\n",
       " 'Lucario,Fighting\\n',\n",
       " 'Hippopotas,Ground\\n',\n",
       " 'Hippowdon,Ground\\n',\n",
       " 'Skorupi,Poison\\n',\n",
       " 'Drapion,Poison\\n',\n",
       " 'Croagunk,Poison\\n',\n",
       " 'Toxicroak,Poison\\n',\n",
       " 'Carnivine,Grass\\n',\n",
       " 'Finneon,Water\\n',\n",
       " 'Lumineon,Water\\n',\n",
       " 'Mantyke,Water\\n',\n",
       " 'Snover,Grass\\n',\n",
       " 'Abomasnow,Grass\\n',\n",
       " 'Weavile,Dark\\n',\n",
       " 'Magnezone,Electric\\n',\n",
       " 'Lickilicky,Normal\\n',\n",
       " 'Rhyperior,Ground\\n',\n",
       " 'Tangrowth,Grass\\n',\n",
       " 'Electivire,Electric\\n',\n",
       " 'Magmortar,Fire\\n',\n",
       " 'Togekiss,Fairy\\n',\n",
       " 'Yanmega,Bug\\n',\n",
       " 'Leafeon,Grass\\n',\n",
       " 'Glaceon,Ice\\n',\n",
       " 'Gliscor,Ground\\n',\n",
       " 'Mamoswine,Ice\\n',\n",
       " 'Porygon-Z,Normal\\n',\n",
       " 'Gallade,Psychic\\n',\n",
       " 'Probopass,Rock\\n',\n",
       " 'Dusknoir,Ghost\\n',\n",
       " 'Froslass,Ice\\n',\n",
       " 'Rotom,Electric\\n',\n",
       " 'Uxie,Psychic\\n',\n",
       " 'Mesprit,Psychic\\n',\n",
       " 'Azelf,Psychic\\n',\n",
       " 'Dialga,Steel\\n',\n",
       " 'Palkia,Water\\n',\n",
       " 'Heatran,Fire\\n',\n",
       " 'Regigigas,Normal\\n',\n",
       " 'Giratina,Ghost\\n',\n",
       " 'Cresselia,Psychic\\n',\n",
       " 'Phione,Water\\n',\n",
       " 'Manaphy,Water\\n',\n",
       " 'Darkrai,Dark\\n',\n",
       " 'Shaymin,Grass\\n',\n",
       " 'Arceus,Normal\\n',\n",
       " 'Victini,Psychic\\n',\n",
       " 'Snivy,Grass\\n',\n",
       " 'Servine,Grass\\n',\n",
       " 'Serperior,Grass\\n',\n",
       " 'Tepig,Fire\\n',\n",
       " 'Pignite,Fire\\n',\n",
       " 'Emboar,Fire\\n',\n",
       " 'Oshawott,Water\\n',\n",
       " 'Dewott,Water\\n',\n",
       " 'Samurott,Water\\n',\n",
       " 'Patrat,Normal\\n',\n",
       " 'Watchog,Normal\\n',\n",
       " 'Lillipup,Normal\\n',\n",
       " 'Herdier,Normal\\n',\n",
       " 'Stoutland,Normal\\n',\n",
       " 'Purrloin,Dark\\n',\n",
       " 'Liepard,Dark\\n',\n",
       " 'Pansage,Grass\\n',\n",
       " 'Simisage,Grass\\n',\n",
       " 'Pansear,Fire\\n',\n",
       " 'Simisear,Fire\\n',\n",
       " 'Panpour,Water\\n',\n",
       " 'Simipour,Water\\n',\n",
       " 'Munna,Psychic\\n',\n",
       " 'Musharna,Psychic\\n',\n",
       " 'Pidove,Normal\\n',\n",
       " 'Tranquill,Normal\\n',\n",
       " 'Unfezant,Normal\\n',\n",
       " 'Blitzle,Electric\\n',\n",
       " 'Zebstrika,Electric\\n',\n",
       " 'Roggenrola,Rock\\n',\n",
       " 'Boldore,Rock\\n',\n",
       " 'Gigalith,Rock\\n',\n",
       " 'Woobat,Psychic\\n',\n",
       " 'Swoobat,Psychic\\n',\n",
       " 'Drilbur,Ground\\n',\n",
       " 'Excadrill,Ground\\n',\n",
       " 'Audino,Normal\\n',\n",
       " 'Timburr,Fighting\\n',\n",
       " 'Gurdurr,Fighting\\n',\n",
       " 'Conkeldurr,Fighting\\n',\n",
       " 'Tympole,Water\\n',\n",
       " 'Palpitoad,Water\\n',\n",
       " 'Seismitoad,Water\\n',\n",
       " 'Throh,Fighting\\n',\n",
       " 'Sawk,Fighting\\n',\n",
       " 'Sewaddle,Bug\\n',\n",
       " 'Swadloon,Bug\\n',\n",
       " 'Leavanny,Bug\\n',\n",
       " 'Venipede,Bug\\n',\n",
       " 'Whirlipede,Bug\\n',\n",
       " 'Scolipede,Bug\\n',\n",
       " 'Cottonee,Grass\\n',\n",
       " 'Whimsicott,Grass\\n',\n",
       " 'Petilil,Grass\\n',\n",
       " 'Lilligant,Grass\\n',\n",
       " 'Basculin,Water\\n',\n",
       " 'Sandile,Ground\\n',\n",
       " 'Krokorok,Ground\\n',\n",
       " 'Krookodile,Ground\\n',\n",
       " 'Darumaka,Fire\\n',\n",
       " 'Darmanitan,Fire\\n',\n",
       " 'Maractus,Grass\\n',\n",
       " 'Dwebble,Bug\\n',\n",
       " 'Crustle,Bug\\n',\n",
       " 'Scraggy,Dark\\n',\n",
       " 'Scrafty,Dark\\n',\n",
       " 'Sigilyph,Psychic\\n',\n",
       " 'Yamask,Ghost\\n',\n",
       " 'Cofagrigus,Ghost\\n',\n",
       " 'Tirtouga,Water\\n',\n",
       " 'Carracosta,Water\\n',\n",
       " 'Archen,Rock\\n',\n",
       " 'Archeops,Rock\\n',\n",
       " 'Trubbish,Poison\\n',\n",
       " 'Garbodor,Poison\\n',\n",
       " 'Zorua,Dark\\n',\n",
       " 'Zoroark,Dark\\n',\n",
       " 'Minccino,Normal\\n',\n",
       " 'Cinccino,Normal\\n',\n",
       " 'Gothita,Psychic\\n',\n",
       " 'Gothorita,Psychic\\n',\n",
       " 'Gothitelle,Psychic\\n',\n",
       " 'Solosis,Psychic\\n',\n",
       " 'Duosion,Psychic\\n',\n",
       " 'Reuniclus,Psychic\\n',\n",
       " 'Ducklett,Water\\n',\n",
       " 'Swanna,Water\\n',\n",
       " 'Vanillite,Ice\\n',\n",
       " 'Vanillish,Ice\\n',\n",
       " 'Vanilluxe,Ice\\n',\n",
       " 'Deerling,Normal\\n',\n",
       " 'Sawsbuck,Normal\\n',\n",
       " 'Emolga,Electric\\n',\n",
       " 'Karrablast,Bug\\n',\n",
       " 'Escavalier,Bug\\n',\n",
       " 'Foongus,Grass\\n',\n",
       " 'Amoonguss,Grass\\n',\n",
       " 'Frillish,Water\\n',\n",
       " 'Jellicent,Water\\n',\n",
       " 'Alomomola,Water\\n',\n",
       " 'Joltik,Bug\\n',\n",
       " 'Galvantula,Bug\\n',\n",
       " 'Ferroseed,Grass\\n',\n",
       " 'Ferrothorn,Grass\\n',\n",
       " 'Klink,Steel\\n',\n",
       " 'Klang,Steel\\n',\n",
       " 'Klinklang,Steel\\n',\n",
       " 'Tynamo,Electric\\n',\n",
       " 'Eelektrik,Electric\\n',\n",
       " 'Eelektross,Electric\\n',\n",
       " 'Elgyem,Psychic\\n',\n",
       " 'Beheeyem,Psychic\\n',\n",
       " 'Litwick,Ghost\\n',\n",
       " 'Lampent,Ghost\\n',\n",
       " 'Chandelure,Ghost\\n',\n",
       " 'Axew,Dragon\\n',\n",
       " 'Fraxure,Dragon\\n',\n",
       " 'Haxorus,Dragon\\n',\n",
       " 'Cubchoo,Ice\\n',\n",
       " 'Beartic,Ice\\n',\n",
       " 'Cryogonal,Ice\\n',\n",
       " 'Shelmet,Bug\\n',\n",
       " 'Accelgor,Bug\\n',\n",
       " 'Stunfisk,Ground\\n',\n",
       " 'Mienfoo,Fighting\\n',\n",
       " 'Mienshao,Fighting\\n',\n",
       " 'Druddigon,Dragon\\n',\n",
       " 'Golett,Ground\\n',\n",
       " 'Golurk,Ground\\n',\n",
       " 'Pawniard,Dark\\n',\n",
       " 'Bisharp,Dark\\n',\n",
       " 'Bouffalant,Normal\\n',\n",
       " 'Rufflet,Normal\\n',\n",
       " 'Braviary,Normal\\n',\n",
       " 'Vullaby,Dark\\n',\n",
       " 'Mandibuzz,Dark\\n',\n",
       " 'Heatmor,Fire\\n',\n",
       " 'Durant,Bug\\n',\n",
       " 'Deino,Dark\\n',\n",
       " 'Zweilous,Dark\\n',\n",
       " 'Hydreigon,Dark\\n',\n",
       " 'Larvesta,Bug\\n',\n",
       " 'Volcarona,Bug\\n',\n",
       " 'Cobalion,Steel\\n',\n",
       " 'Terrakion,Rock\\n',\n",
       " 'Virizion,Grass\\n',\n",
       " 'Tornadus,Flying\\n',\n",
       " 'Thundurus,Electric\\n',\n",
       " 'Reshiram,Dragon\\n',\n",
       " 'Zekrom,Dragon\\n',\n",
       " 'Landorus,Ground\\n',\n",
       " 'Kyurem,Dragon\\n',\n",
       " 'Keldeo,Water\\n',\n",
       " 'Meloetta,Normal\\n',\n",
       " 'Genesect,Bug\\n',\n",
       " 'Chespin,Grass\\n',\n",
       " 'Quilladin,Grass\\n',\n",
       " 'Chesnaught,Grass\\n',\n",
       " 'Fennekin,Fire\\n',\n",
       " 'Braixen,Fire\\n',\n",
       " 'Delphox,Fire\\n',\n",
       " 'Froakie,Water\\n',\n",
       " 'Frogadier,Water\\n',\n",
       " 'Greninja,Water\\n',\n",
       " 'Bunnelby,Normal\\n',\n",
       " 'Diggersby,Normal\\n',\n",
       " 'Fletchling,Normal\\n',\n",
       " 'Fletchinder,Fire\\n',\n",
       " 'Talonflame,Fire\\n',\n",
       " 'Scatterbug,Bug\\n',\n",
       " 'Spewpa,Bug\\n',\n",
       " 'Vivillon,Bug\\n',\n",
       " 'Litleo,Fire\\n',\n",
       " 'Pyroar,Fire\\n',\n",
       " 'FlabÃ©bÃ©,Fairy\\n',\n",
       " 'Floette,Fairy\\n',\n",
       " 'Florges,Fairy\\n',\n",
       " 'Skiddo,Grass\\n',\n",
       " 'Gogoat,Grass\\n',\n",
       " 'Pancham,Fighting\\n',\n",
       " 'Pangoro,Fighting\\n',\n",
       " 'Furfrou,Normal\\n',\n",
       " 'Espurr,Psychic\\n',\n",
       " 'Meowstic,Psychic\\n',\n",
       " 'Honedge,Steel\\n',\n",
       " 'Doublade,Steel\\n',\n",
       " 'Aegislash,Steel\\n',\n",
       " 'Spritzee,Fairy\\n',\n",
       " 'Aromatisse,Fairy\\n',\n",
       " 'Swirlix,Fairy\\n',\n",
       " 'Slurpuff,Fairy\\n',\n",
       " 'Inkay,Dark\\n',\n",
       " 'Malamar,Dark\\n',\n",
       " 'Binacle,Rock\\n',\n",
       " 'Barbaracle,Rock\\n',\n",
       " 'Skrelp,Poison\\n',\n",
       " 'Dragalge,Poison\\n',\n",
       " 'Clauncher,Water\\n',\n",
       " 'Clawitzer,Water\\n',\n",
       " 'Helioptile,Electric\\n',\n",
       " 'Heliolisk,Electric\\n',\n",
       " 'Tyrunt,Rock\\n',\n",
       " 'Tyrantrum,Rock\\n',\n",
       " 'Amaura,Rock\\n',\n",
       " 'Aurorus,Rock\\n',\n",
       " 'Sylveon,Fairy\\n',\n",
       " 'Hawlucha,Fighting\\n',\n",
       " 'Dedenne,Electric\\n',\n",
       " 'Carbink,Rock\\n',\n",
       " 'Goomy,Dragon\\n',\n",
       " 'Sliggoo,Dragon\\n',\n",
       " 'Goodra,Dragon\\n',\n",
       " 'Klefki,Steel\\n',\n",
       " 'Phantump,Ghost\\n',\n",
       " 'Trevenant,Ghost\\n',\n",
       " 'Pumpkaboo,Ghost\\n',\n",
       " 'Gourgeist,Ghost\\n',\n",
       " 'Bergmite,Ice\\n',\n",
       " 'Avalugg,Ice\\n',\n",
       " 'Noibat,Flying\\n',\n",
       " 'Noivern,Flying\\n',\n",
       " 'Xerneas,Fairy\\n',\n",
       " 'Yveltal,Dark\\n',\n",
       " 'Zygarde,Dragon\\n',\n",
       " 'Diancie,Rock\\n',\n",
       " 'Hoopa,Psychic\\n',\n",
       " 'Volcanion,Fire\\n']"
      ]
     },
     "execution_count": 111,
     "metadata": {},
     "output_type": "execute_result"
    }
   ],
   "source": [
    "pokemons"
   ]
  },
  {
   "cell_type": "code",
   "execution_count": 112,
   "metadata": {},
   "outputs": [
    {
     "data": {
      "text/plain": [
       "[<function __main__.<lambda>(x)>,\n",
       " ['Bulbasaur,Grass\\n',\n",
       "  'Ivysaur,Grass\\n',\n",
       "  'Venusaur,Grass\\n',\n",
       "  'Charmander,Fire\\n',\n",
       "  'Charmeleon,Fire\\n',\n",
       "  'Charizard,Fire\\n',\n",
       "  'Squirtle,Water\\n',\n",
       "  'Wartortle,Water\\n',\n",
       "  'Blastoise,Water\\n',\n",
       "  'Caterpie,Bug\\n',\n",
       "  'Metapod,Bug\\n',\n",
       "  'Butterfree,Bug\\n',\n",
       "  'Weedle,Bug\\n',\n",
       "  'Kakuna,Bug\\n',\n",
       "  'Beedrill,Bug\\n',\n",
       "  'Pidgey,Normal\\n',\n",
       "  'Pidgeotto,Normal\\n',\n",
       "  'Pidgeot,Normal\\n',\n",
       "  'Rattata,Normal\\n',\n",
       "  'Raticate,Normal\\n',\n",
       "  'Spearow,Normal\\n',\n",
       "  'Fearow,Normal\\n',\n",
       "  'Ekans,Poison\\n',\n",
       "  'Arbok,Poison\\n',\n",
       "  'Pikachu,Electric\\n',\n",
       "  'Raichu,Electric\\n',\n",
       "  'Sandshrew,Ground\\n',\n",
       "  'Sandslash,Ground\\n',\n",
       "  'Nidoran,Poison\\n',\n",
       "  'Nidorina,Poison\\n',\n",
       "  'Nidoqueen,Poison\\n',\n",
       "  'Nidoranâ™‚,Poison\\n',\n",
       "  'Nidorino,Poison\\n',\n",
       "  'Nidoking,Poison\\n',\n",
       "  'Clefairy,Fairy\\n',\n",
       "  'Clefable,Fairy\\n',\n",
       "  'Vulpix,Fire\\n',\n",
       "  'Ninetales,Fire\\n',\n",
       "  'Jigglypuff,Normal\\n',\n",
       "  'Wigglytuff,Normal\\n',\n",
       "  'Zubat,Poison\\n',\n",
       "  'Golbat,Poison\\n',\n",
       "  'Oddish,Grass\\n',\n",
       "  'Gloom,Grass\\n',\n",
       "  'Vileplume,Grass\\n',\n",
       "  'Paras,Bug\\n',\n",
       "  'Parasect,Bug\\n',\n",
       "  'Venonat,Bug\\n',\n",
       "  'Venomoth,Bug\\n',\n",
       "  'Diglett,Ground\\n',\n",
       "  'Dugtrio,Ground\\n',\n",
       "  'Meowth,Normal\\n',\n",
       "  'Persian,Normal\\n',\n",
       "  'Psyduck,Water\\n',\n",
       "  'Golduck,Water\\n',\n",
       "  'Mankey,Fighting\\n',\n",
       "  'Primeape,Fighting\\n',\n",
       "  'Growlithe,Fire\\n',\n",
       "  'Arcanine,Fire\\n',\n",
       "  'Poliwag,Water\\n',\n",
       "  'Poliwhirl,Water\\n',\n",
       "  'Poliwrath,Water\\n',\n",
       "  'Abra,Psychic\\n',\n",
       "  'Kadabra,Psychic\\n',\n",
       "  'Alakazam,Psychic\\n',\n",
       "  'Machop,Fighting\\n',\n",
       "  'Machoke,Fighting\\n',\n",
       "  'Machamp,Fighting\\n',\n",
       "  'Bellsprout,Grass\\n',\n",
       "  'Weepinbell,Grass\\n',\n",
       "  'Victreebel,Grass\\n',\n",
       "  'Tentacool,Water\\n',\n",
       "  'Tentacruel,Water\\n',\n",
       "  'Geodude,Rock\\n',\n",
       "  'Graveler,Rock\\n',\n",
       "  'Golem,Rock\\n',\n",
       "  'Ponyta,Fire\\n',\n",
       "  'Rapidash,Fire\\n',\n",
       "  'Slowpoke,Water\\n',\n",
       "  'Slowbro,Water\\n',\n",
       "  'Magnemite,Electric\\n',\n",
       "  'Magneton,Electric\\n',\n",
       "  \"Farfetch'd,Normal\\n\",\n",
       "  'Doduo,Normal\\n',\n",
       "  'Dodrio,Normal\\n',\n",
       "  'Seel,Water\\n',\n",
       "  'Dewgong,Water\\n',\n",
       "  'Grimer,Poison\\n',\n",
       "  'Muk,Poison\\n',\n",
       "  'Shellder,Water\\n',\n",
       "  'Cloyster,Water\\n',\n",
       "  'Gastly,Ghost\\n',\n",
       "  'Haunter,Ghost\\n',\n",
       "  'Gengar,Ghost\\n',\n",
       "  'Onix,Rock\\n',\n",
       "  'Drowzee,Psychic\\n',\n",
       "  'Hypno,Psychic\\n',\n",
       "  'Krabby,Water\\n',\n",
       "  'Kingler,Water\\n',\n",
       "  'Voltorb,Electric\\n',\n",
       "  'Electrode,Electric\\n',\n",
       "  'Exeggcute,Grass\\n',\n",
       "  'Exeggutor,Grass\\n',\n",
       "  'Cubone,Ground\\n',\n",
       "  'Marowak,Ground\\n',\n",
       "  'Hitmonlee,Fighting\\n',\n",
       "  'Hitmonchan,Fighting\\n',\n",
       "  'Lickitung,Normal\\n',\n",
       "  'Koffing,Poison\\n',\n",
       "  'Weezing,Poison\\n',\n",
       "  'Rhyhorn,Ground\\n',\n",
       "  'Rhydon,Ground\\n',\n",
       "  'Chansey,Normal\\n',\n",
       "  'Tangela,Grass\\n',\n",
       "  'Kangaskhan,Normal\\n',\n",
       "  'Horsea,Water\\n',\n",
       "  'Seadra,Water\\n',\n",
       "  'Goldeen,Water\\n',\n",
       "  'Seaking,Water\\n',\n",
       "  'Staryu,Water\\n',\n",
       "  'Starmie,Water\\n',\n",
       "  'Mr. Mime,Psychic\\n',\n",
       "  'Scyther,Bug\\n',\n",
       "  'Jynx,Ice\\n',\n",
       "  'Electabuzz,Electric\\n',\n",
       "  'Magmar,Fire\\n',\n",
       "  'Pinsir,Bug\\n',\n",
       "  'Tauros,Normal\\n',\n",
       "  'Magikarp,Water\\n',\n",
       "  'Gyarados,Water\\n',\n",
       "  'Lapras,Water\\n',\n",
       "  'Ditto,Normal\\n',\n",
       "  'Eevee,Normal\\n',\n",
       "  'Vaporeon,Water\\n',\n",
       "  'Jolteon,Electric\\n',\n",
       "  'Flareon,Fire\\n',\n",
       "  'Porygon,Normal\\n',\n",
       "  'Omanyte,Rock\\n',\n",
       "  'Omastar,Rock\\n',\n",
       "  'Kabuto,Rock\\n',\n",
       "  'Kabutops,Rock\\n',\n",
       "  'Aerodactyl,Rock\\n',\n",
       "  'Snorlax,Normal\\n',\n",
       "  'Articuno,Ice\\n',\n",
       "  'Zapdos,Electric\\n',\n",
       "  'Moltres,Fire\\n',\n",
       "  'Dratini,Dragon\\n',\n",
       "  'Dragonair,Dragon\\n',\n",
       "  'Dragonite,Dragon\\n',\n",
       "  'Mewtwo,Psychic\\n',\n",
       "  'Mew,Psychic\\n',\n",
       "  'Chikorita,Grass\\n',\n",
       "  'Bayleef,Grass\\n',\n",
       "  'Meganium,Grass\\n',\n",
       "  'Cyndaquil,Fire\\n',\n",
       "  'Quilava,Fire\\n',\n",
       "  'Typhlosion,Fire\\n',\n",
       "  'Totodile,Water\\n',\n",
       "  'Croconaw,Water\\n',\n",
       "  'Feraligatr,Water\\n',\n",
       "  'Sentret,Normal\\n',\n",
       "  'Furret,Normal\\n',\n",
       "  'Hoothoot,Normal\\n',\n",
       "  'Noctowl,Normal\\n',\n",
       "  'Ledyba,Bug\\n',\n",
       "  'Ledian,Bug\\n',\n",
       "  'Spinarak,Bug\\n',\n",
       "  'Ariados,Bug\\n',\n",
       "  'Crobat,Poison\\n',\n",
       "  'Chinchou,Water\\n',\n",
       "  'Lanturn,Water\\n',\n",
       "  'Pichu,Electric\\n',\n",
       "  'Cleffa,Fairy\\n',\n",
       "  'Igglybuff,Normal\\n',\n",
       "  'Togepi,Fairy\\n',\n",
       "  'Togetic,Fairy\\n',\n",
       "  'Natu,Psychic\\n',\n",
       "  'Xatu,Psychic\\n',\n",
       "  'Mareep,Electric\\n',\n",
       "  'Flaaffy,Electric\\n',\n",
       "  'Ampharos,Electric\\n',\n",
       "  'Bellossom,Grass\\n',\n",
       "  'Marill,Water\\n',\n",
       "  'Azumarill,Water\\n',\n",
       "  'Sudowoodo,Rock\\n',\n",
       "  'Politoed,Water\\n',\n",
       "  'Hoppip,Grass\\n',\n",
       "  'Skiploom,Grass\\n',\n",
       "  'Jumpluff,Grass\\n',\n",
       "  'Aipom,Normal\\n',\n",
       "  'Sunkern,Grass\\n',\n",
       "  'Sunflora,Grass\\n',\n",
       "  'Yanma,Bug\\n',\n",
       "  'Wooper,Water\\n',\n",
       "  'Quagsire,Water\\n',\n",
       "  'Espeon,Psychic\\n',\n",
       "  'Umbreon,Dark\\n',\n",
       "  'Murkrow,Dark\\n',\n",
       "  'Slowking,Water\\n',\n",
       "  'Misdreavus,Ghost\\n',\n",
       "  'Unown,Psychic\\n',\n",
       "  'Wobbuffet,Psychic\\n',\n",
       "  'Girafarig,Normal\\n',\n",
       "  'Pineco,Bug\\n',\n",
       "  'Forretress,Bug\\n',\n",
       "  'Dunsparce,Normal\\n',\n",
       "  'Gligar,Ground\\n',\n",
       "  'Steelix,Steel\\n',\n",
       "  'Snubbull,Fairy\\n',\n",
       "  'Granbull,Fairy\\n',\n",
       "  'Qwilfish,Water\\n',\n",
       "  'Scizor,Bug\\n',\n",
       "  'Shuckle,Bug\\n',\n",
       "  'Heracross,Bug\\n',\n",
       "  'Sneasel,Dark\\n',\n",
       "  'Teddiursa,Normal\\n',\n",
       "  'Ursaring,Normal\\n',\n",
       "  'Slugma,Fire\\n',\n",
       "  'Magcargo,Fire\\n',\n",
       "  'Swinub,Ice\\n',\n",
       "  'Piloswine,Ice\\n',\n",
       "  'Corsola,Water\\n',\n",
       "  'Remoraid,Water\\n',\n",
       "  'Octillery,Water\\n',\n",
       "  'Delibird,Ice\\n',\n",
       "  'Mantine,Water\\n',\n",
       "  'Skarmory,Steel\\n',\n",
       "  'Houndour,Dark\\n',\n",
       "  'Houndoom,Dark\\n',\n",
       "  'Kingdra,Water\\n',\n",
       "  'Phanpy,Ground\\n',\n",
       "  'Donphan,Ground\\n',\n",
       "  'Porygon2,Normal\\n',\n",
       "  'Stantler,Normal\\n',\n",
       "  'Smeargle,Normal\\n',\n",
       "  'Tyrogue,Fighting\\n',\n",
       "  'Hitmontop,Fighting\\n',\n",
       "  'Smoochum,Ice\\n',\n",
       "  'Elekid,Electric\\n',\n",
       "  'Magby,Fire\\n',\n",
       "  'Miltank,Normal\\n',\n",
       "  'Blissey,Normal\\n',\n",
       "  'Raikou,Electric\\n',\n",
       "  'Entei,Fire\\n',\n",
       "  'Suicune,Water\\n',\n",
       "  'Larvitar,Rock\\n',\n",
       "  'Pupitar,Rock\\n',\n",
       "  'Tyranitar,Rock\\n',\n",
       "  'Lugia,Psychic\\n',\n",
       "  'Ho-oh,Fire\\n',\n",
       "  'Celebi,Psychic\\n',\n",
       "  'Treecko,Grass\\n',\n",
       "  'Grovyle,Grass\\n',\n",
       "  'Sceptile,Grass\\n',\n",
       "  'Torchic,Fire\\n',\n",
       "  'Combusken,Fire\\n',\n",
       "  'Blaziken,Fire\\n',\n",
       "  'Mudkip,Water\\n',\n",
       "  'Marshtomp,Water\\n',\n",
       "  'Swampert,Water\\n',\n",
       "  'Poochyena,Dark\\n',\n",
       "  'Mightyena,Dark\\n',\n",
       "  'Zigzagoon,Normal\\n',\n",
       "  'Linoone,Normal\\n',\n",
       "  'Wurmple,Bug\\n',\n",
       "  'Silcoon,Bug\\n',\n",
       "  'Beautifly,Bug\\n',\n",
       "  'Cascoon,Bug\\n',\n",
       "  'Dustox,Bug\\n',\n",
       "  'Lotad,Water\\n',\n",
       "  'Lombre,Water\\n',\n",
       "  'Ludicolo,Water\\n',\n",
       "  'Seedot,Grass\\n',\n",
       "  'Nuzleaf,Grass\\n',\n",
       "  'Shiftry,Grass\\n',\n",
       "  'Taillow,Normal\\n',\n",
       "  'Swellow,Normal\\n',\n",
       "  'Wingull,Water\\n',\n",
       "  'Pelipper,Water\\n',\n",
       "  'Ralts,Psychic\\n',\n",
       "  'Kirlia,Psychic\\n',\n",
       "  'Gardevoir,Psychic\\n',\n",
       "  'Surskit,Bug\\n',\n",
       "  'Masquerain,Bug\\n',\n",
       "  'Shroomish,Grass\\n',\n",
       "  'Breloom,Grass\\n',\n",
       "  'Slakoth,Normal\\n',\n",
       "  'Vigoroth,Normal\\n',\n",
       "  'Slaking,Normal\\n',\n",
       "  'Nincada,Bug\\n',\n",
       "  'Ninjask,Bug\\n',\n",
       "  'Shedinja,Bug\\n',\n",
       "  'Whismur,Normal\\n',\n",
       "  'Loudred,Normal\\n',\n",
       "  'Exploud,Normal\\n',\n",
       "  'Makuhita,Fighting\\n',\n",
       "  'Hariyama,Fighting\\n',\n",
       "  'Azurill,Normal\\n',\n",
       "  'Nosepass,Rock\\n',\n",
       "  'Skitty,Normal\\n',\n",
       "  'Delcatty,Normal\\n',\n",
       "  'Sableye,Dark\\n',\n",
       "  'Mawile,Steel\\n',\n",
       "  'Aron,Steel\\n',\n",
       "  'Lairon,Steel\\n',\n",
       "  'Aggron,Steel\\n',\n",
       "  'Meditite,Fighting\\n',\n",
       "  'Medicham,Fighting\\n',\n",
       "  'Electrike,Electric\\n',\n",
       "  'Manectric,Electric\\n',\n",
       "  'Plusle,Electric\\n',\n",
       "  'Minun,Electric\\n',\n",
       "  'Volbeat,Bug\\n',\n",
       "  'Illumise,Bug\\n',\n",
       "  'Roselia,Grass\\n',\n",
       "  'Gulpin,Poison\\n',\n",
       "  'Swalot,Poison\\n',\n",
       "  'Carvanha,Water\\n',\n",
       "  'Sharpedo,Water\\n',\n",
       "  'Wailmer,Water\\n',\n",
       "  'Wailord,Water\\n',\n",
       "  'Numel,Fire\\n',\n",
       "  'Camerupt,Fire\\n',\n",
       "  'Torkoal,Fire\\n',\n",
       "  'Spoink,Psychic\\n',\n",
       "  'Grumpig,Psychic\\n',\n",
       "  'Spinda,Normal\\n',\n",
       "  'Trapinch,Ground\\n',\n",
       "  'Vibrava,Ground\\n',\n",
       "  'Flygon,Ground\\n',\n",
       "  'Cacnea,Grass\\n',\n",
       "  'Cacturne,Grass\\n',\n",
       "  'Swablu,Normal\\n',\n",
       "  'Altaria,Dragon\\n',\n",
       "  'Zangoose,Normal\\n',\n",
       "  'Seviper,Poison\\n',\n",
       "  'Lunatone,Rock\\n',\n",
       "  'Solrock,Rock\\n',\n",
       "  'Barboach,Water\\n',\n",
       "  'Whiscash,Water\\n',\n",
       "  'Corphish,Water\\n',\n",
       "  'Crawdaunt,Water\\n',\n",
       "  'Baltoy,Ground\\n',\n",
       "  'Claydol,Ground\\n',\n",
       "  'Lileep,Rock\\n',\n",
       "  'Cradily,Rock\\n',\n",
       "  'Anorith,Rock\\n',\n",
       "  'Armaldo,Rock\\n',\n",
       "  'Feebas,Water\\n',\n",
       "  'Milotic,Water\\n',\n",
       "  'Castform,Normal\\n',\n",
       "  'Kecleon,Normal\\n',\n",
       "  'Shuppet,Ghost\\n',\n",
       "  'Banette,Ghost\\n',\n",
       "  'Duskull,Ghost\\n',\n",
       "  'Dusclops,Ghost\\n',\n",
       "  'Tropius,Grass\\n',\n",
       "  'Chimecho,Psychic\\n',\n",
       "  'Absol,Dark\\n',\n",
       "  'Wynaut,Psychic\\n',\n",
       "  'Snorunt,Ice\\n',\n",
       "  'Glalie,Ice\\n',\n",
       "  'Spheal,Ice\\n',\n",
       "  'Sealeo,Ice\\n',\n",
       "  'Walrein,Ice\\n',\n",
       "  'Clamperl,Water\\n',\n",
       "  'Huntail,Water\\n',\n",
       "  'Gorebyss,Water\\n',\n",
       "  'Relicanth,Water\\n',\n",
       "  'Luvdisc,Water\\n',\n",
       "  'Bagon,Dragon\\n',\n",
       "  'Shelgon,Dragon\\n',\n",
       "  'Salamence,Dragon\\n',\n",
       "  'Beldum,Steel\\n',\n",
       "  'Metang,Steel\\n',\n",
       "  'Metagross,Steel\\n',\n",
       "  'Regirock,Rock\\n',\n",
       "  'Regice,Ice\\n',\n",
       "  'Registeel,Steel\\n',\n",
       "  'Latias,Dragon\\n',\n",
       "  'Latios,Dragon\\n',\n",
       "  'Kyogre,Water\\n',\n",
       "  'Groudon,Ground\\n',\n",
       "  'Rayquaza,Dragon\\n',\n",
       "  'Jirachi,Steel\\n',\n",
       "  'Deoxys,Psychic\\n',\n",
       "  'Turtwig,Grass\\n',\n",
       "  'Grotle,Grass\\n',\n",
       "  'Torterra,Grass\\n',\n",
       "  'Chimchar,Fire\\n',\n",
       "  'Monferno,Fire\\n',\n",
       "  'Infernape,Fire\\n',\n",
       "  'Piplup,Water\\n',\n",
       "  'Prinplup,Water\\n',\n",
       "  'Empoleon,Water\\n',\n",
       "  'Starly,Normal\\n',\n",
       "  'Staravia,Normal\\n',\n",
       "  'Staraptor,Normal\\n',\n",
       "  'Bidoof,Normal\\n',\n",
       "  'Bibarel,Normal\\n',\n",
       "  'Kricketot,Bug\\n',\n",
       "  'Kricketune,Bug\\n',\n",
       "  'Shinx,Electric\\n',\n",
       "  'Luxio,Electric\\n',\n",
       "  'Luxray,Electric\\n',\n",
       "  'Budew,Grass\\n',\n",
       "  'Roserade,Grass\\n',\n",
       "  'Cranidos,Rock\\n',\n",
       "  'Rampardos,Rock\\n',\n",
       "  'Shieldon,Rock\\n',\n",
       "  'Bastiodon,Rock\\n',\n",
       "  'Burmy,Bug\\n',\n",
       "  'Wormadam,Bug\\n',\n",
       "  'Mothim,Bug\\n',\n",
       "  'Combee,Bug\\n',\n",
       "  'Vespiquen,Bug\\n',\n",
       "  'Pachirisu,Electric\\n',\n",
       "  'Buizel,Water\\n',\n",
       "  'Floatzel,Water\\n',\n",
       "  'Cherubi,Grass\\n',\n",
       "  'Cherrim,Grass\\n',\n",
       "  'Shellos,Water\\n',\n",
       "  'Gastrodon,Water\\n',\n",
       "  'Ambipom,Normal\\n',\n",
       "  'Drifloon,Ghost\\n',\n",
       "  'Drifblim,Ghost\\n',\n",
       "  'Buneary,Normal\\n',\n",
       "  'Lopunny,Normal\\n',\n",
       "  'Mismagius,Ghost\\n',\n",
       "  'Honchkrow,Dark\\n',\n",
       "  'Glameow,Normal\\n',\n",
       "  'Purugly,Normal\\n',\n",
       "  'Chingling,Psychic\\n',\n",
       "  'Stunky,Poison\\n',\n",
       "  'Skuntank,Poison\\n',\n",
       "  'Bronzor,Steel\\n',\n",
       "  'Bronzong,Steel\\n',\n",
       "  'Bonsly,Rock\\n',\n",
       "  'Mime Jr.,Psychic\\n',\n",
       "  'Happiny,Normal\\n',\n",
       "  'Chatot,Normal\\n',\n",
       "  'Spiritomb,Ghost\\n',\n",
       "  'Gible,Dragon\\n',\n",
       "  'Gabite,Dragon\\n',\n",
       "  'Garchomp,Dragon\\n',\n",
       "  'Munchlax,Normal\\n',\n",
       "  'Riolu,Fighting\\n',\n",
       "  'Lucario,Fighting\\n',\n",
       "  'Hippopotas,Ground\\n',\n",
       "  'Hippowdon,Ground\\n',\n",
       "  'Skorupi,Poison\\n',\n",
       "  'Drapion,Poison\\n',\n",
       "  'Croagunk,Poison\\n',\n",
       "  'Toxicroak,Poison\\n',\n",
       "  'Carnivine,Grass\\n',\n",
       "  'Finneon,Water\\n',\n",
       "  'Lumineon,Water\\n',\n",
       "  'Mantyke,Water\\n',\n",
       "  'Snover,Grass\\n',\n",
       "  'Abomasnow,Grass\\n',\n",
       "  'Weavile,Dark\\n',\n",
       "  'Magnezone,Electric\\n',\n",
       "  'Lickilicky,Normal\\n',\n",
       "  'Rhyperior,Ground\\n',\n",
       "  'Tangrowth,Grass\\n',\n",
       "  'Electivire,Electric\\n',\n",
       "  'Magmortar,Fire\\n',\n",
       "  'Togekiss,Fairy\\n',\n",
       "  'Yanmega,Bug\\n',\n",
       "  'Leafeon,Grass\\n',\n",
       "  'Glaceon,Ice\\n',\n",
       "  'Gliscor,Ground\\n',\n",
       "  'Mamoswine,Ice\\n',\n",
       "  'Porygon-Z,Normal\\n',\n",
       "  'Gallade,Psychic\\n',\n",
       "  'Probopass,Rock\\n',\n",
       "  'Dusknoir,Ghost\\n',\n",
       "  'Froslass,Ice\\n',\n",
       "  'Rotom,Electric\\n',\n",
       "  'Uxie,Psychic\\n',\n",
       "  'Mesprit,Psychic\\n',\n",
       "  'Azelf,Psychic\\n',\n",
       "  'Dialga,Steel\\n',\n",
       "  'Palkia,Water\\n',\n",
       "  'Heatran,Fire\\n',\n",
       "  'Regigigas,Normal\\n',\n",
       "  'Giratina,Ghost\\n',\n",
       "  'Cresselia,Psychic\\n',\n",
       "  'Phione,Water\\n',\n",
       "  'Manaphy,Water\\n',\n",
       "  'Darkrai,Dark\\n',\n",
       "  'Shaymin,Grass\\n',\n",
       "  'Arceus,Normal\\n',\n",
       "  'Victini,Psychic\\n',\n",
       "  'Snivy,Grass\\n',\n",
       "  'Servine,Grass\\n',\n",
       "  'Serperior,Grass\\n',\n",
       "  'Tepig,Fire\\n',\n",
       "  'Pignite,Fire\\n',\n",
       "  'Emboar,Fire\\n',\n",
       "  'Oshawott,Water\\n',\n",
       "  'Dewott,Water\\n',\n",
       "  'Samurott,Water\\n',\n",
       "  'Patrat,Normal\\n',\n",
       "  'Watchog,Normal\\n',\n",
       "  'Lillipup,Normal\\n',\n",
       "  'Herdier,Normal\\n',\n",
       "  'Stoutland,Normal\\n',\n",
       "  'Purrloin,Dark\\n',\n",
       "  'Liepard,Dark\\n',\n",
       "  'Pansage,Grass\\n',\n",
       "  'Simisage,Grass\\n',\n",
       "  'Pansear,Fire\\n',\n",
       "  'Simisear,Fire\\n',\n",
       "  'Panpour,Water\\n',\n",
       "  'Simipour,Water\\n',\n",
       "  'Munna,Psychic\\n',\n",
       "  'Musharna,Psychic\\n',\n",
       "  'Pidove,Normal\\n',\n",
       "  'Tranquill,Normal\\n',\n",
       "  'Unfezant,Normal\\n',\n",
       "  'Blitzle,Electric\\n',\n",
       "  'Zebstrika,Electric\\n',\n",
       "  'Roggenrola,Rock\\n',\n",
       "  'Boldore,Rock\\n',\n",
       "  'Gigalith,Rock\\n',\n",
       "  'Woobat,Psychic\\n',\n",
       "  'Swoobat,Psychic\\n',\n",
       "  'Drilbur,Ground\\n',\n",
       "  'Excadrill,Ground\\n',\n",
       "  'Audino,Normal\\n',\n",
       "  'Timburr,Fighting\\n',\n",
       "  'Gurdurr,Fighting\\n',\n",
       "  'Conkeldurr,Fighting\\n',\n",
       "  'Tympole,Water\\n',\n",
       "  'Palpitoad,Water\\n',\n",
       "  'Seismitoad,Water\\n',\n",
       "  'Throh,Fighting\\n',\n",
       "  'Sawk,Fighting\\n',\n",
       "  'Sewaddle,Bug\\n',\n",
       "  'Swadloon,Bug\\n',\n",
       "  'Leavanny,Bug\\n',\n",
       "  'Venipede,Bug\\n',\n",
       "  'Whirlipede,Bug\\n',\n",
       "  'Scolipede,Bug\\n',\n",
       "  'Cottonee,Grass\\n',\n",
       "  'Whimsicott,Grass\\n',\n",
       "  'Petilil,Grass\\n',\n",
       "  'Lilligant,Grass\\n',\n",
       "  'Basculin,Water\\n',\n",
       "  'Sandile,Ground\\n',\n",
       "  'Krokorok,Ground\\n',\n",
       "  'Krookodile,Ground\\n',\n",
       "  'Darumaka,Fire\\n',\n",
       "  'Darmanitan,Fire\\n',\n",
       "  'Maractus,Grass\\n',\n",
       "  'Dwebble,Bug\\n',\n",
       "  'Crustle,Bug\\n',\n",
       "  'Scraggy,Dark\\n',\n",
       "  'Scrafty,Dark\\n',\n",
       "  'Sigilyph,Psychic\\n',\n",
       "  'Yamask,Ghost\\n',\n",
       "  'Cofagrigus,Ghost\\n',\n",
       "  'Tirtouga,Water\\n',\n",
       "  'Carracosta,Water\\n',\n",
       "  'Archen,Rock\\n',\n",
       "  'Archeops,Rock\\n',\n",
       "  'Trubbish,Poison\\n',\n",
       "  'Garbodor,Poison\\n',\n",
       "  'Zorua,Dark\\n',\n",
       "  'Zoroark,Dark\\n',\n",
       "  'Minccino,Normal\\n',\n",
       "  'Cinccino,Normal\\n',\n",
       "  'Gothita,Psychic\\n',\n",
       "  'Gothorita,Psychic\\n',\n",
       "  'Gothitelle,Psychic\\n',\n",
       "  'Solosis,Psychic\\n',\n",
       "  'Duosion,Psychic\\n',\n",
       "  'Reuniclus,Psychic\\n',\n",
       "  'Ducklett,Water\\n',\n",
       "  'Swanna,Water\\n',\n",
       "  'Vanillite,Ice\\n',\n",
       "  'Vanillish,Ice\\n',\n",
       "  'Vanilluxe,Ice\\n',\n",
       "  'Deerling,Normal\\n',\n",
       "  'Sawsbuck,Normal\\n',\n",
       "  'Emolga,Electric\\n',\n",
       "  'Karrablast,Bug\\n',\n",
       "  'Escavalier,Bug\\n',\n",
       "  'Foongus,Grass\\n',\n",
       "  'Amoonguss,Grass\\n',\n",
       "  'Frillish,Water\\n',\n",
       "  'Jellicent,Water\\n',\n",
       "  'Alomomola,Water\\n',\n",
       "  'Joltik,Bug\\n',\n",
       "  'Galvantula,Bug\\n',\n",
       "  'Ferroseed,Grass\\n',\n",
       "  'Ferrothorn,Grass\\n',\n",
       "  'Klink,Steel\\n',\n",
       "  'Klang,Steel\\n',\n",
       "  'Klinklang,Steel\\n',\n",
       "  'Tynamo,Electric\\n',\n",
       "  'Eelektrik,Electric\\n',\n",
       "  'Eelektross,Electric\\n',\n",
       "  'Elgyem,Psychic\\n',\n",
       "  'Beheeyem,Psychic\\n',\n",
       "  'Litwick,Ghost\\n',\n",
       "  'Lampent,Ghost\\n',\n",
       "  'Chandelure,Ghost\\n',\n",
       "  'Axew,Dragon\\n',\n",
       "  'Fraxure,Dragon\\n',\n",
       "  'Haxorus,Dragon\\n',\n",
       "  'Cubchoo,Ice\\n',\n",
       "  'Beartic,Ice\\n',\n",
       "  'Cryogonal,Ice\\n',\n",
       "  'Shelmet,Bug\\n',\n",
       "  'Accelgor,Bug\\n',\n",
       "  'Stunfisk,Ground\\n',\n",
       "  'Mienfoo,Fighting\\n',\n",
       "  'Mienshao,Fighting\\n',\n",
       "  'Druddigon,Dragon\\n',\n",
       "  'Golett,Ground\\n',\n",
       "  'Golurk,Ground\\n',\n",
       "  'Pawniard,Dark\\n',\n",
       "  'Bisharp,Dark\\n',\n",
       "  'Bouffalant,Normal\\n',\n",
       "  'Rufflet,Normal\\n',\n",
       "  'Braviary,Normal\\n',\n",
       "  'Vullaby,Dark\\n',\n",
       "  'Mandibuzz,Dark\\n',\n",
       "  'Heatmor,Fire\\n',\n",
       "  'Durant,Bug\\n',\n",
       "  'Deino,Dark\\n',\n",
       "  'Zweilous,Dark\\n',\n",
       "  'Hydreigon,Dark\\n',\n",
       "  'Larvesta,Bug\\n',\n",
       "  'Volcarona,Bug\\n',\n",
       "  'Cobalion,Steel\\n',\n",
       "  'Terrakion,Rock\\n',\n",
       "  'Virizion,Grass\\n',\n",
       "  'Tornadus,Flying\\n',\n",
       "  'Thundurus,Electric\\n',\n",
       "  'Reshiram,Dragon\\n',\n",
       "  'Zekrom,Dragon\\n',\n",
       "  'Landorus,Ground\\n',\n",
       "  'Kyurem,Dragon\\n',\n",
       "  'Keldeo,Water\\n',\n",
       "  'Meloetta,Normal\\n',\n",
       "  'Genesect,Bug\\n',\n",
       "  'Chespin,Grass\\n',\n",
       "  'Quilladin,Grass\\n',\n",
       "  'Chesnaught,Grass\\n',\n",
       "  'Fennekin,Fire\\n',\n",
       "  'Braixen,Fire\\n',\n",
       "  'Delphox,Fire\\n',\n",
       "  'Froakie,Water\\n',\n",
       "  'Frogadier,Water\\n',\n",
       "  'Greninja,Water\\n',\n",
       "  'Bunnelby,Normal\\n',\n",
       "  'Diggersby,Normal\\n',\n",
       "  'Fletchling,Normal\\n',\n",
       "  'Fletchinder,Fire\\n',\n",
       "  'Talonflame,Fire\\n',\n",
       "  'Scatterbug,Bug\\n',\n",
       "  'Spewpa,Bug\\n',\n",
       "  'Vivillon,Bug\\n',\n",
       "  'Litleo,Fire\\n',\n",
       "  'Pyroar,Fire\\n',\n",
       "  'FlabÃ©bÃ©,Fairy\\n',\n",
       "  'Floette,Fairy\\n',\n",
       "  'Florges,Fairy\\n',\n",
       "  'Skiddo,Grass\\n',\n",
       "  'Gogoat,Grass\\n',\n",
       "  'Pancham,Fighting\\n',\n",
       "  'Pangoro,Fighting\\n',\n",
       "  'Furfrou,Normal\\n',\n",
       "  'Espurr,Psychic\\n',\n",
       "  'Meowstic,Psychic\\n',\n",
       "  'Honedge,Steel\\n',\n",
       "  'Doublade,Steel\\n',\n",
       "  'Aegislash,Steel\\n',\n",
       "  'Spritzee,Fairy\\n',\n",
       "  'Aromatisse,Fairy\\n',\n",
       "  'Swirlix,Fairy\\n',\n",
       "  'Slurpuff,Fairy\\n',\n",
       "  'Inkay,Dark\\n',\n",
       "  'Malamar,Dark\\n',\n",
       "  'Binacle,Rock\\n',\n",
       "  'Barbaracle,Rock\\n',\n",
       "  'Skrelp,Poison\\n',\n",
       "  'Dragalge,Poison\\n',\n",
       "  'Clauncher,Water\\n',\n",
       "  'Clawitzer,Water\\n',\n",
       "  'Helioptile,Electric\\n',\n",
       "  'Heliolisk,Electric\\n',\n",
       "  'Tyrunt,Rock\\n',\n",
       "  'Tyrantrum,Rock\\n',\n",
       "  'Amaura,Rock\\n',\n",
       "  'Aurorus,Rock\\n',\n",
       "  'Sylveon,Fairy\\n',\n",
       "  'Hawlucha,Fighting\\n',\n",
       "  'Dedenne,Electric\\n',\n",
       "  'Carbink,Rock\\n',\n",
       "  'Goomy,Dragon\\n',\n",
       "  'Sliggoo,Dragon\\n',\n",
       "  'Goodra,Dragon\\n',\n",
       "  'Klefki,Steel\\n',\n",
       "  'Phantump,Ghost\\n',\n",
       "  'Trevenant,Ghost\\n',\n",
       "  'Pumpkaboo,Ghost\\n',\n",
       "  'Gourgeist,Ghost\\n',\n",
       "  'Bergmite,Ice\\n',\n",
       "  'Avalugg,Ice\\n',\n",
       "  'Noibat,Flying\\n',\n",
       "  'Noivern,Flying\\n',\n",
       "  'Xerneas,Fairy\\n',\n",
       "  'Yveltal,Dark\\n',\n",
       "  'Zygarde,Dragon\\n',\n",
       "  'Diancie,Rock\\n',\n",
       "  'Hoopa,Psychic\\n',\n",
       "  'Volcanion,Fire\\n']]"
      ]
     },
     "execution_count": 112,
     "metadata": {},
     "output_type": "execute_result"
    }
   ],
   "source": [
    "list((lambda x:x.split(\",\")[1]=='fire',pokemons))"
   ]
  },
  {
   "cell_type": "code",
   "execution_count": 131,
   "metadata": {},
   "outputs": [
    {
     "data": {
      "text/plain": [
       "['Charmander',\n",
       " 'Charmeleon',\n",
       " 'Charizard',\n",
       " 'Vulpix',\n",
       " 'Ninetales',\n",
       " 'Growlithe',\n",
       " 'Arcanine',\n",
       " 'Ponyta',\n",
       " 'Rapidash',\n",
       " 'Magmar',\n",
       " 'Flareon',\n",
       " 'Moltres',\n",
       " 'Cyndaquil',\n",
       " 'Quilava',\n",
       " 'Typhlosion',\n",
       " 'Slugma',\n",
       " 'Magcargo',\n",
       " 'Magby',\n",
       " 'Entei',\n",
       " 'Ho-oh',\n",
       " 'Torchic',\n",
       " 'Combusken',\n",
       " 'Blaziken',\n",
       " 'Numel',\n",
       " 'Camerupt',\n",
       " 'Torkoal',\n",
       " 'Chimchar',\n",
       " 'Monferno',\n",
       " 'Infernape',\n",
       " 'Magmortar',\n",
       " 'Heatran',\n",
       " 'Tepig',\n",
       " 'Pignite',\n",
       " 'Emboar',\n",
       " 'Pansear',\n",
       " 'Simisear',\n",
       " 'Darumaka',\n",
       " 'Darmanitan',\n",
       " 'Heatmor',\n",
       " 'Fennekin',\n",
       " 'Braixen',\n",
       " 'Delphox',\n",
       " 'Fletchinder',\n",
       " 'Talonflame',\n",
       " 'Litleo',\n",
       " 'Pyroar',\n",
       " 'Volcanion']"
      ]
     },
     "execution_count": 131,
     "metadata": {},
     "output_type": "execute_result"
    }
   ],
   "source": [
    "list(filter(lambda pok:pok.split(',')[1].strip()=='Fire',pokemons))\n",
    "result4=[pok for pok in pokemons if pok.split(',')[1].strip()=='Fire']\n",
    "result4=[r.strip().split(',')[0] for r in result4]\n",
    "result4"
   ]
  },
  {
   "cell_type": "code",
   "execution_count": 132,
   "metadata": {},
   "outputs": [
    {
     "data": {
      "text/plain": [
       "['Charmander',\n",
       " 'Charmeleon',\n",
       " 'Charizard',\n",
       " 'Vulpix',\n",
       " 'Ninetales',\n",
       " 'Growlithe',\n",
       " 'Arcanine',\n",
       " 'Ponyta',\n",
       " 'Rapidash',\n",
       " 'Magmar',\n",
       " 'Flareon',\n",
       " 'Moltres',\n",
       " 'Cyndaquil',\n",
       " 'Quilava',\n",
       " 'Typhlosion',\n",
       " 'Slugma',\n",
       " 'Magcargo',\n",
       " 'Magby',\n",
       " 'Entei',\n",
       " 'Ho-oh',\n",
       " 'Torchic',\n",
       " 'Combusken',\n",
       " 'Blaziken',\n",
       " 'Numel',\n",
       " 'Camerupt',\n",
       " 'Torkoal',\n",
       " 'Chimchar',\n",
       " 'Monferno',\n",
       " 'Infernape',\n",
       " 'Magmortar',\n",
       " 'Heatran',\n",
       " 'Tepig',\n",
       " 'Pignite',\n",
       " 'Emboar',\n",
       " 'Pansear',\n",
       " 'Simisear',\n",
       " 'Darumaka',\n",
       " 'Darmanitan',\n",
       " 'Heatmor',\n",
       " 'Fennekin',\n",
       " 'Braixen',\n",
       " 'Delphox',\n",
       " 'Fletchinder',\n",
       " 'Talonflame',\n",
       " 'Litleo',\n",
       " 'Pyroar',\n",
       " 'Volcanion']"
      ]
     },
     "execution_count": 132,
     "metadata": {},
     "output_type": "execute_result"
    }
   ],
   "source": [
    "result4=[pok for pok in pokemons if pok.split(',')[1].strip()=='Fire']\n",
    "result4=[r.strip().split(',')[0] for r in result4]\n",
    "result4"
   ]
  },
  {
   "cell_type": "code",
   "execution_count": 127,
   "metadata": {},
   "outputs": [],
   "source": [
    "result=[pok for pok in pokemons if pok.split(',')[1].strip()=='Fire']"
   ]
  },
  {
   "cell_type": "code",
   "execution_count": 128,
   "metadata": {},
   "outputs": [
    {
     "data": {
      "text/plain": [
       "['Charmander,Fire\\n',\n",
       " 'Charmeleon,Fire\\n',\n",
       " 'Charizard,Fire\\n',\n",
       " 'Vulpix,Fire\\n',\n",
       " 'Ninetales,Fire\\n',\n",
       " 'Growlithe,Fire\\n',\n",
       " 'Arcanine,Fire\\n',\n",
       " 'Ponyta,Fire\\n',\n",
       " 'Rapidash,Fire\\n',\n",
       " 'Magmar,Fire\\n',\n",
       " 'Flareon,Fire\\n',\n",
       " 'Moltres,Fire\\n',\n",
       " 'Cyndaquil,Fire\\n',\n",
       " 'Quilava,Fire\\n',\n",
       " 'Typhlosion,Fire\\n',\n",
       " 'Slugma,Fire\\n',\n",
       " 'Magcargo,Fire\\n',\n",
       " 'Magby,Fire\\n',\n",
       " 'Entei,Fire\\n',\n",
       " 'Ho-oh,Fire\\n',\n",
       " 'Torchic,Fire\\n',\n",
       " 'Combusken,Fire\\n',\n",
       " 'Blaziken,Fire\\n',\n",
       " 'Numel,Fire\\n',\n",
       " 'Camerupt,Fire\\n',\n",
       " 'Torkoal,Fire\\n',\n",
       " 'Chimchar,Fire\\n',\n",
       " 'Monferno,Fire\\n',\n",
       " 'Infernape,Fire\\n',\n",
       " 'Magmortar,Fire\\n',\n",
       " 'Heatran,Fire\\n',\n",
       " 'Tepig,Fire\\n',\n",
       " 'Pignite,Fire\\n',\n",
       " 'Emboar,Fire\\n',\n",
       " 'Pansear,Fire\\n',\n",
       " 'Simisear,Fire\\n',\n",
       " 'Darumaka,Fire\\n',\n",
       " 'Darmanitan,Fire\\n',\n",
       " 'Heatmor,Fire\\n',\n",
       " 'Fennekin,Fire\\n',\n",
       " 'Braixen,Fire\\n',\n",
       " 'Delphox,Fire\\n',\n",
       " 'Fletchinder,Fire\\n',\n",
       " 'Talonflame,Fire\\n',\n",
       " 'Litleo,Fire\\n',\n",
       " 'Pyroar,Fire\\n',\n",
       " 'Volcanion,Fire\\n']"
      ]
     },
     "execution_count": 128,
     "metadata": {},
     "output_type": "execute_result"
    }
   ],
   "source": [
    "result"
   ]
  },
  {
   "cell_type": "code",
   "execution_count": 129,
   "metadata": {},
   "outputs": [],
   "source": [
    "result1=[r.strip().split(',')[0] for r in result]"
   ]
  },
  {
   "cell_type": "code",
   "execution_count": 130,
   "metadata": {},
   "outputs": [
    {
     "data": {
      "text/plain": [
       "['Charmander',\n",
       " 'Charmeleon',\n",
       " 'Charizard',\n",
       " 'Vulpix',\n",
       " 'Ninetales',\n",
       " 'Growlithe',\n",
       " 'Arcanine',\n",
       " 'Ponyta',\n",
       " 'Rapidash',\n",
       " 'Magmar',\n",
       " 'Flareon',\n",
       " 'Moltres',\n",
       " 'Cyndaquil',\n",
       " 'Quilava',\n",
       " 'Typhlosion',\n",
       " 'Slugma',\n",
       " 'Magcargo',\n",
       " 'Magby',\n",
       " 'Entei',\n",
       " 'Ho-oh',\n",
       " 'Torchic',\n",
       " 'Combusken',\n",
       " 'Blaziken',\n",
       " 'Numel',\n",
       " 'Camerupt',\n",
       " 'Torkoal',\n",
       " 'Chimchar',\n",
       " 'Monferno',\n",
       " 'Infernape',\n",
       " 'Magmortar',\n",
       " 'Heatran',\n",
       " 'Tepig',\n",
       " 'Pignite',\n",
       " 'Emboar',\n",
       " 'Pansear',\n",
       " 'Simisear',\n",
       " 'Darumaka',\n",
       " 'Darmanitan',\n",
       " 'Heatmor',\n",
       " 'Fennekin',\n",
       " 'Braixen',\n",
       " 'Delphox',\n",
       " 'Fletchinder',\n",
       " 'Talonflame',\n",
       " 'Litleo',\n",
       " 'Pyroar',\n",
       " 'Volcanion']"
      ]
     },
     "execution_count": 130,
     "metadata": {},
     "output_type": "execute_result"
    }
   ],
   "source": [
    "result1"
   ]
  },
  {
   "cell_type": "code",
   "execution_count": 134,
   "metadata": {},
   "outputs": [
    {
     "data": {
      "text/plain": [
       "{'Fairy': 17,\n",
       " 'Poison': 28,\n",
       " 'Ground': 30,\n",
       " 'Bug': 63,\n",
       " 'Normal': 93,\n",
       " 'Fighting': 25,\n",
       " 'Steel': 22,\n",
       " 'Psychic': 47,\n",
       " 'Grass': 66,\n",
       " 'Type': 1,\n",
       " 'Rock': 41,\n",
       " 'Flying': 3,\n",
       " 'Dark': 28,\n",
       " 'Electric': 36,\n",
       " 'Water': 105,\n",
       " 'Ghost': 23,\n",
       " 'Ice': 23,\n",
       " 'Dragon': 24,\n",
       " 'Fire': 47}"
      ]
     },
     "execution_count": 134,
     "metadata": {},
     "output_type": "execute_result"
    }
   ],
   "source": [
    "pokemons = open(\"pokemon.csv\").readlines()\n",
    "\n",
    "pokemon_types = (set (map(lambda x:x.split(',')[1].strip(),pokemons)))\n",
    "\n",
    "result8 = {type:(len(list (filter(lambda x:x.split(',')[1].strip()==type,pokemons)))) for type in pokemon_types}\n",
    "\n",
    "result8"
   ]
  },
  {
   "cell_type": "code",
   "execution_count": null,
   "metadata": {},
   "outputs": [],
   "source": []
  },
  {
   "cell_type": "code",
   "execution_count": null,
   "metadata": {},
   "outputs": [],
   "source": [
    "from random import randint\n",
    "\n",
    "\n",
    "game  = [\"Rock\", \"Paper\", \"Scissors\"]\n",
    "\n",
    "computer = game[randint(0,2)]\n",
    "\n",
    "\n",
    "\n",
    "playersChoice = 0\n",
    "computersChoice = 0\n",
    "\n",
    "goOn = True\n",
    "\n",
    "while(goOn):\n",
    "\n",
    "    player = input(\"Rock, Paper or Scissors? or enter Finish to end!\\n\")\n",
    "\n",
    " \n",
    "    if(player == 'Finish'):\n",
    "        goOn = False\n",
    "    elif(player == computer):\n",
    "        print(\"Tie!\")\n",
    "    elif(player == \"Rock\"):\n",
    "        if(computer == \"Paper\"):\n",
    "            print(\"You lose!\", computer, \"covers\", player)\n",
    "            computersPoint = computersChoice + 1 \n",
    "        else:\n",
    "            print(\"You win!\", player, \"smashes\", computer)\n",
    "            playersPoint = playersChoice + 1\n",
    "    elif(player == \"Paper\"):\n",
    "        if(computer == \"Scissors\"):\n",
    "            print(\"You lose!\", computer, \"cut\", player)\n",
    "            computersPoint = computersChoice + 1\n",
    "        else:\n",
    "            print(\"You win!\", player, \"covers\", computer)\n",
    "            playersPoint = playersChoice + 1\n",
    "    elif(player == \"Scissors\"):\n",
    "        if(computer == \"Rock\"):\n",
    "            print(\"You lose...\", computer, \"smashes\", player)\n",
    "            computersPoint = computersChoice + 1\n",
    "        else:\n",
    "            print(\"You win!\", player, \"cut\", computer)\n",
    "            playersPoint = playersChoice + 1\n",
    "    else:\n",
    "        print(\"That's not a valid play. Check your spelling!\")\n",
    " \n",
    "    computer = game[randint(0,2)]\n",
    "    print('********Next Turn********')\n",
    "\n",
    " \n",
    "print(\"********Final Points********\")\n",
    "print(\"Player: \", playersChoice)\n",
    "print(\"Computer: \", computersChoice)"
   ]
  },
  {
   "cell_type": "code",
   "execution_count": null,
   "metadata": {},
   "outputs": [],
   "source": []
  }
 ],
 "metadata": {
  "kernelspec": {
   "display_name": "Python 3",
   "language": "python",
   "name": "python3"
  },
  "language_info": {
   "codemirror_mode": {
    "name": "ipython",
    "version": 3
   },
   "file_extension": ".py",
   "mimetype": "text/x-python",
   "name": "python",
   "nbconvert_exporter": "python",
   "pygments_lexer": "ipython3",
   "version": "3.7.6"
  }
 },
 "nbformat": 4,
 "nbformat_minor": 4
}
