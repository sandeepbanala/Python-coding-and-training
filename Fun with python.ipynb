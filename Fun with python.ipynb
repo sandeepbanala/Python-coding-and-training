{
 "cells": [
  {
   "cell_type": "code",
   "execution_count": 1,
   "metadata": {},
   "outputs": [
    {
     "name": "stdout",
     "output_type": "stream",
     "text": [
      "Enter a Number : 1\n"
     ]
    },
    {
     "ename": "NameError",
     "evalue": "name 'player1' is not defined",
     "output_type": "error",
     "traceback": [
      "\u001b[1;31m---------------------------------------------------------------------------\u001b[0m",
      "\u001b[1;31mNameError\u001b[0m                                 Traceback (most recent call last)",
      "\u001b[1;32m<ipython-input-1-76526754bdc7>\u001b[0m in \u001b[0;36m<module>\u001b[1;34m\u001b[0m\n\u001b[0;32m      8\u001b[0m     \u001b[1;32mif\u001b[0m \u001b[0mSandeep\u001b[0m \u001b[1;33m>\u001b[0m \u001b[0mcomputer\u001b[0m \u001b[1;33m:\u001b[0m\u001b[1;33m\u001b[0m\u001b[1;33m\u001b[0m\u001b[0m\n\u001b[0;32m      9\u001b[0m         \u001b[0mprint\u001b[0m\u001b[1;33m(\u001b[0m\u001b[1;34m\"You are too high\"\u001b[0m\u001b[1;33m)\u001b[0m\u001b[1;33m\u001b[0m\u001b[1;33m\u001b[0m\u001b[0m\n\u001b[1;32m---> 10\u001b[1;33m     \u001b[1;32melif\u001b[0m \u001b[0mplayer1\u001b[0m \u001b[1;33m<\u001b[0m \u001b[0mcomputer\u001b[0m \u001b[1;33m:\u001b[0m\u001b[1;33m\u001b[0m\u001b[1;33m\u001b[0m\u001b[0m\n\u001b[0m\u001b[0;32m     11\u001b[0m         \u001b[0mprint\u001b[0m\u001b[1;33m(\u001b[0m\u001b[1;34m\"You are too low\"\u001b[0m\u001b[1;33m)\u001b[0m\u001b[1;33m\u001b[0m\u001b[1;33m\u001b[0m\u001b[0m\n\u001b[0;32m     12\u001b[0m     \u001b[1;32melse\u001b[0m \u001b[1;33m:\u001b[0m\u001b[1;33m\u001b[0m\u001b[1;33m\u001b[0m\u001b[0m\n",
      "\u001b[1;31mNameError\u001b[0m: name 'player1' is not defined"
     ]
    }
   ],
   "source": [
    "#Sandeep Banala's attempt\n",
    "\n",
    "import random\n",
    "for i in range(6) :\n",
    "    computer = random.randint(0,21)\n",
    "    Sandeep = int(input(\"Enter a Number : \"))\n",
    "    iscorrect = False\n",
    "    if Sandeep > computer :\n",
    "        print(\"You are too high\")\n",
    "    elif player1 < computer :\n",
    "        print(\"You are too low\")\n",
    "    else :\n",
    "        Print(\"Gotcha! You made it\")\n",
    "        iscorrect = True\n",
    "    if iscorrect : break\n",
    "    elif i == 5 : print(\"you have run out of attempts\")\n"
   ]
  },
  {
   "cell_type": "code",
   "execution_count": null,
   "metadata": {},
   "outputs": [],
   "source": [
    "import random\n",
    "computerChoice=ramdom.randint(1,20)\n",
    "print(computerChoice)"
   ]
  },
  {
   "cell_type": "code",
   "execution_count": null,
   "metadata": {},
   "outputs": [],
   "source": [
    "for _ in range(6):\n",
    "    playerChoice= int(input('Guess the number\\n'))\n",
    "    \n",
    "    if playerChoice=computerChoice\n",
    "       print('Gotcha! you made it!')\n",
    "    break\n",
    "else:\n",
    "    print(\"you have run out of attempts! please try again\")\n"
   ]
  },
  {
   "cell_type": "code",
   "execution_count": 3,
   "metadata": {},
   "outputs": [
    {
     "name": "stdout",
     "output_type": "stream",
     "text": [
      "Winning Rules of the Rock paper scissor game as follows: \n",
      "Rock vs paper->paper wins \n",
      "Rock vs scissor->Rock wins \n",
      "paper vs scissor->scissor wins \n",
      "\n",
      "Enter choice \n",
      " 1. Rock \n",
      " 2. paper \n",
      " 3. scissor \n",
      "\n",
      "User turn: paper\n"
     ]
    },
    {
     "ename": "ValueError",
     "evalue": "invalid literal for int() with base 10: 'paper'",
     "output_type": "error",
     "traceback": [
      "\u001b[1;31m---------------------------------------------------------------------------\u001b[0m",
      "\u001b[1;31mValueError\u001b[0m                                Traceback (most recent call last)",
      "\u001b[1;32m<ipython-input-3-d0030403b8da>\u001b[0m in \u001b[0;36m<module>\u001b[1;34m\u001b[0m\n\u001b[0;32m     13\u001b[0m \u001b[1;33m\u001b[0m\u001b[0m\n\u001b[0;32m     14\u001b[0m         \u001b[1;31m# take the input from user\u001b[0m\u001b[1;33m\u001b[0m\u001b[1;33m\u001b[0m\u001b[1;33m\u001b[0m\u001b[0m\n\u001b[1;32m---> 15\u001b[1;33m         \u001b[0mchoice\u001b[0m \u001b[1;33m=\u001b[0m \u001b[0mint\u001b[0m\u001b[1;33m(\u001b[0m\u001b[0minput\u001b[0m\u001b[1;33m(\u001b[0m\u001b[1;34m\"User turn: \"\u001b[0m\u001b[1;33m)\u001b[0m\u001b[1;33m)\u001b[0m\u001b[1;33m\u001b[0m\u001b[1;33m\u001b[0m\u001b[0m\n\u001b[0m\u001b[0;32m     16\u001b[0m \u001b[1;33m\u001b[0m\u001b[0m\n\u001b[0;32m     17\u001b[0m         \u001b[1;31m# OR is the short-circuit operator\u001b[0m\u001b[1;33m\u001b[0m\u001b[1;33m\u001b[0m\u001b[1;33m\u001b[0m\u001b[0m\n",
      "\u001b[1;31mValueError\u001b[0m: invalid literal for int() with base 10: 'paper'"
     ]
    }
   ],
   "source": [
    "# import random module \n",
    "import random \n",
    "\n",
    "# Print multiline instruction \n",
    "# performstring concatenation of string \n",
    "print(\"Winning Rules of the Rock paper scissor game as follows: \\n\"\n",
    "\t\t\t\t\t\t\t\t+\"Rock vs paper->paper wins \\n\"\n",
    "\t\t\t\t\t\t\t\t+ \"Rock vs scissor->Rock wins \\n\"\n",
    "\t\t\t\t\t\t\t\t+\"paper vs scissor->scissor wins \\n\") \n",
    "\n",
    "while True: \n",
    "\tprint(\"Enter choice \\n 1. Rock \\n 2. paper \\n 3. scissor \\n\") \n",
    "\t\n",
    "\t# take the input from user \n",
    "\tchoice = int(input(\"User turn: \")) \n",
    "\n",
    "\t# OR is the short-circuit operator \n",
    "\t# if any one of the condition is true \n",
    "\t# then it return True value \n",
    "\t\n",
    "\t# looping until user enter invalid input \n",
    "\twhile choice > 3 or choice < 1: \n",
    "\t\tchoice = int(input(\"enter valid input: \")) \n",
    "\t\t\n",
    "\n",
    "\t# initialize value of choice_name variable \n",
    "\t# corresponding to the choice value \n",
    "\tif choice == 1: \n",
    "\t\tchoice_name = 'Rock'\n",
    "\telif choice == 2: \n",
    "\t\tchoice_name = 'paper'\n",
    "\telse: \n",
    "\t\tchoice_name = 'scissor'\n",
    "\t\t\n",
    "\t# print user choice \n",
    "\tprint(\"user choice is: \" + choice_name) \n",
    "\tprint(\"\\nNow its computer turn.......\") \n",
    "\n",
    "\t# Computer chooses randomly any number \n",
    "\t# among 1 , 2 and 3. Using randint method \n",
    "\t# of random module \n",
    "\tcomp_choice = random.randint(1, 3) \n",
    "\t\n",
    "\t# looping until comp_choice value \n",
    "\t# is equal to the choice value \n",
    "\twhile comp_choice == choice: \n",
    "\t\tcomp_choice = random.randint(1, 3) \n",
    "\n",
    "\t# initialize value of comp_choice_name \n",
    "\t# variable corresponding to the choice value \n",
    "\tif comp_choice == 1: \n",
    "\t\tcomp_choice_name = 'Rock'\n",
    "\telif comp_choice == 2: \n",
    "\t\tcomp_choice_name = 'paper'\n",
    "\telse: \n",
    "\t\tcomp_choice_name = 'scissor'\n",
    "\t\t\n",
    "\tprint(\"Computer choice is: \" + comp_choice_name) \n",
    "\n",
    "\tprint(choice_name + \" V/s \" + comp_choice_name) \n",
    "\n",
    "\t# condition for winning \n",
    "\tif((choice == 1 and comp_choice == 2) or\n",
    "\t(choice == 2 and comp_choice ==1 )): \n",
    "\t\tprint(\"paper wins => \", end = \"\") \n",
    "\t\tresult = \"paper\"\n",
    "\t\t\n",
    "\telif((choice == 1 and comp_choice == 3) or\n",
    "\t\t(choice == 3 and comp_choice == 1)): \n",
    "\t\tprint(\"Rock wins =>\", end = \"\") \n",
    "\t\tresult = \"Rock\"\n",
    "\telse: \n",
    "\t\tprint(\"scissor wins =>\", end = \"\") \n",
    "\t\tresult = \"scissor\"\n",
    "\n",
    "\t# Printing either user or computer wins \n",
    "\tif result == choice_name: \n",
    "\t\tprint(\"<== User wins ==>\") \n",
    "\telse: \n",
    "\t\tprint(\"<== Computer wins ==>\") \n",
    "\t\t\n",
    "\tprint(\"Do you want to play again? (Y/N)\") \n",
    "\tans = input() \n",
    "\n",
    "\n",
    "\t# if user input n or N then condition is True \n",
    "\tif ans == 'n' or ans == 'N': \n",
    "\t\tbreak\n",
    "\t\n",
    "# after coming out of the while loop \n",
    "# we print thanks for playing \n",
    "print(\"\\nThanks for playing\") \n",
    "\n"
   ]
  },
  {
   "cell_type": "code",
   "execution_count": null,
   "metadata": {},
   "outputs": [],
   "source": [
    "#Sandeep Banala's verified task 2\n",
    "\n",
    "from random import randint\n",
    "\n",
    "game  = [\"Rock\", \"Paper\", \"Scissors\"]\n",
    "computer = game[randint(0,2)]\n",
    "playersChoice = 0\n",
    "computersChoice = 0\n",
    "goOn = True\n",
    "while(goOn):\n",
    "    player = input(\"Rock, Paper or Scissors? or enter Finish to end!\\n\")\n",
    "    if(player == 'Finish'):\n",
    "        goOn = False\n",
    "    elif(player == computer):\n",
    "        print(\"Tie!\")\n",
    "    elif(player == \"Rock\"):\n",
    "        if(computer == \"Paper\"):\n",
    "            print(\"You lose!\", computer, \"covers\", player)\n",
    "            computersPoint = computersChoice + 1 \n",
    "        else:\n",
    "            print(\"You win!\", player, \"smashes\", computer)\n",
    "            playersPoint = playersChoice + 1\n",
    "    elif(player == \"Paper\"):\n",
    "        if(computer == \"Scissors\"):\n",
    "            print(\"You lose!\", computer, \"cut\", player)\n",
    "            computersPoint = computersChoice + 1\n",
    "        else:\n",
    "            print(\"You win!\", player, \"covers\", computer)\n",
    "            playersPoint = playersChoice + 1\n",
    "    elif(player == \"Scissors\"):\n",
    "        if(computer == \"Rock\"):\n",
    "            print(\"You lose...\", computer, \"smashes\", player)\n",
    "            computersPoint = computersChoice + 1\n",
    "        else:\n",
    "            print(\"You win!\", player, \"cut\", computer)\n",
    "            playersPoint = playersChoice + 1\n",
    "    else:\n",
    "        print(\"That's not a valid play. Check your spelling!\")\n",
    "    computer = game[randint(0,2)]\n",
    "    print('********Next Turn********')\n",
    "    \n",
    "print(\"********Final Points********\")\n",
    "print(\"Player: \", playersChoice)\n",
    "print(\"Computer: \", computersChoice)"
   ]
  },
  {
   "cell_type": "code",
   "execution_count": null,
   "metadata": {},
   "outputs": [
    {
     "name": "stdout",
     "output_type": "stream",
     "text": [
      "ROCK, PAPER, SCISSORS\n",
      "0 Wins, 0 Losses, 0 Ties\n",
      "Enter your move: (r)ock (p)aper (s)cissors or (q)uit\n",
      "x\n",
      "Type one of r, p, s, or q.\n",
      "Enter your move: (r)ock (p)aper (s)cissors or (q)uit\n",
      "3\n",
      "Type one of r, p, s, or q.\n",
      "Enter your move: (r)ock (p)aper (s)cissors or (q)uit\n",
      "r\n",
      "ROCK versus...\n",
      "ROCK\n",
      "It is a tie!\n",
      "0 Wins, 0 Losses, 1 Ties\n",
      "Enter your move: (r)ock (p)aper (s)cissors or (q)uit\n",
      "p\n",
      "PAPER versus...\n",
      "PAPER\n",
      "It is a tie!\n",
      "0 Wins, 0 Losses, 2 Ties\n",
      "Enter your move: (r)ock (p)aper (s)cissors or (q)uit\n",
      "s\n",
      "SCISSORS versus...\n",
      "ROCK\n",
      "You lose!\n",
      "0 Wins, 1 Losses, 2 Ties\n",
      "Enter your move: (r)ock (p)aper (s)cissors or (q)uit\n"
     ]
    }
   ],
   "source": [
    "import random, sys\n",
    "\n",
    "print('ROCK, PAPER, SCISSORS')\n",
    "\n",
    "# These variables keep track of the number of wins, losses, and ties.\n",
    "wins = 0\n",
    "losses = 0\n",
    "ties = 0\n",
    "\n",
    "while True: # The main game loop.\n",
    "    print('%s Wins, %s Losses, %s Ties' % (wins, losses, ties))\n",
    "    while True: # The player input loop.\n",
    "        print('Enter your move: (r)ock (p)aper (s)cissors or (q)uit')\n",
    "        playerMove = input()\n",
    "        if playerMove == 'q':\n",
    "            sys.exit() # Quit the program.\n",
    "        if playerMove == 'r' or playerMove == 'p' or playerMove == 's':\n",
    "            break # Break out of the player input loop.\n",
    "        print('Type one of r, p, s, or q.')\n",
    "\n",
    "    # Display what the player chose:\n",
    "    if playerMove == 'r':\n",
    "        print('ROCK versus...')\n",
    "    elif playerMove == 'p':\n",
    "        print('PAPER versus...')\n",
    "    elif playerMove == 's':\n",
    "        print('SCISSORS versus...')\n",
    "\n",
    "    # Display what the computer chose:\n",
    "    randomNumber = random.randint(1, 3)\n",
    "    if randomNumber == 1:\n",
    "        computerMove = 'r'\n",
    "        print('ROCK')\n",
    "    elif randomNumber == 2:\n",
    "        computerMove = 'p'\n",
    "        print('PAPER')\n",
    "    elif randomNumber == 3:\n",
    "        computerMove = 's'\n",
    "        print('SCISSORS')\n",
    "\n",
    "    # Display and record the win/loss/tie:\n",
    "    if playerMove == computerMove:\n",
    "        print('It is a tie!')\n",
    "        ties = ties + 1\n",
    "    elif playerMove == 'r' and computerMove == 's':\n",
    "        print('You win!')\n",
    "        wins = wins + 1\n",
    "    elif playerMove == 'p' and computerMove == 'r':\n",
    "        print('You win!')\n",
    "        wins = wins + 1\n",
    "    elif playerMove == 's' and computerMove == 'p':\n",
    "        print('You win!')\n",
    "        wins = wins + 1\n",
    "    elif playerMove == 'r' and computerMove == 'p':\n",
    "        print('You lose!')\n",
    "        losses = losses + 1\n",
    "    elif playerMove == 'p' and computerMove == 's':\n",
    "        print('You lose!')\n",
    "        losses = losses + 1\n",
    "    elif playerMove == 's' and computerMove == 'r':\n",
    "        print('You lose!')\n",
    "        losses = losses + 1"
   ]
  },
  {
   "cell_type": "code",
   "execution_count": 1,
   "metadata": {},
   "outputs": [
    {
     "ename": "NameError",
     "evalue": "name 'pyautogui' is not defined",
     "output_type": "error",
     "traceback": [
      "\u001b[1;31m---------------------------------------------------------------------------\u001b[0m",
      "\u001b[1;31mNameError\u001b[0m                                 Traceback (most recent call last)",
      "\u001b[1;32m<ipython-input-1-38e68466e1dc>\u001b[0m in \u001b[0;36m<module>\u001b[1;34m\u001b[0m\n\u001b[1;32m----> 1\u001b[1;33m \u001b[0mwh\u001b[0m \u001b[1;33m=\u001b[0m \u001b[0mpyautogui\u001b[0m\u001b[1;33m.\u001b[0m\u001b[0msize\u001b[0m\u001b[1;33m(\u001b[0m\u001b[1;33m)\u001b[0m\u001b[1;33m\u001b[0m\u001b[1;33m\u001b[0m\u001b[0m\n\u001b[0m",
      "\u001b[1;31mNameError\u001b[0m: name 'pyautogui' is not defined"
     ]
    }
   ],
   "source": [
    "wh = pyautogui.size()"
   ]
  },
  {
   "cell_type": "code",
   "execution_count": 3,
   "metadata": {},
   "outputs": [
    {
     "ename": "NameError",
     "evalue": "name 'pyautogui' is not defined",
     "output_type": "error",
     "traceback": [
      "\u001b[1;31m---------------------------------------------------------------------------\u001b[0m",
      "\u001b[1;31mNameError\u001b[0m                                 Traceback (most recent call last)",
      "\u001b[1;32m<ipython-input-3-3edac52f19f7>\u001b[0m in \u001b[0;36m<module>\u001b[1;34m\u001b[0m\n\u001b[1;32m----> 1\u001b[1;33m \u001b[0mwh\u001b[0m \u001b[1;33m=\u001b[0m \u001b[0mpyautogui\u001b[0m\u001b[1;33m.\u001b[0m\u001b[0msize\u001b[0m\u001b[1;33m(\u001b[0m\u001b[1;33m)\u001b[0m\u001b[1;33m\u001b[0m\u001b[1;33m\u001b[0m\u001b[0m\n\u001b[0m\u001b[0;32m      2\u001b[0m \u001b[0mwh\u001b[0m\u001b[1;33m\u001b[0m\u001b[1;33m\u001b[0m\u001b[0m\n",
      "\u001b[1;31mNameError\u001b[0m: name 'pyautogui' is not defined"
     ]
    }
   ],
   "source": [
    "wh = pyautogui.size()\n",
    "wh"
   ]
  },
  {
   "cell_type": "code",
   "execution_count": 4,
   "metadata": {},
   "outputs": [],
   "source": [
    "import pyautogui"
   ]
  },
  {
   "cell_type": "code",
   "execution_count": 5,
   "metadata": {},
   "outputs": [
    {
     "data": {
      "text/plain": [
       "Size(width=1366, height=768)"
      ]
     },
     "execution_count": 5,
     "metadata": {},
     "output_type": "execute_result"
    }
   ],
   "source": [
    "wh = pyautogui.size()\n",
    "wh"
   ]
  },
  {
   "cell_type": "code",
   "execution_count": 6,
   "metadata": {},
   "outputs": [
    {
     "ename": "NameError",
     "evalue": "name 'pytautogui' is not defined",
     "output_type": "error",
     "traceback": [
      "\u001b[1;31m---------------------------------------------------------------------------\u001b[0m",
      "\u001b[1;31mNameError\u001b[0m                                 Traceback (most recent call last)",
      "\u001b[1;32m<ipython-input-6-57a58a409240>\u001b[0m in \u001b[0;36m<module>\u001b[1;34m\u001b[0m\n\u001b[1;32m----> 1\u001b[1;33m \u001b[0mpytautogui\u001b[0m\u001b[1;33m.\u001b[0m\u001b[0mmoveTo\u001b[0m\u001b[1;33m(\u001b[0m\u001b[1;36m100\u001b[0m\u001b[1;33m,\u001b[0m\u001b[1;36m100\u001b[0m\u001b[1;33m)\u001b[0m\u001b[1;33m\u001b[0m\u001b[1;33m\u001b[0m\u001b[0m\n\u001b[0m",
      "\u001b[1;31mNameError\u001b[0m: name 'pytautogui' is not defined"
     ]
    }
   ],
   "source": [
    "pytautogui.moveTo(100,100)"
   ]
  },
  {
   "cell_type": "code",
   "execution_count": 8,
   "metadata": {},
   "outputs": [],
   "source": [
    "pyautogui.moveTo(100, 100)"
   ]
  },
  {
   "cell_type": "code",
   "execution_count": 9,
   "metadata": {},
   "outputs": [],
   "source": [
    "pyautogui.moveTo(100, 100, duration = 4) # moves mouse to location (100,100) in 2 seconds"
   ]
  },
  {
   "cell_type": "code",
   "execution_count": 10,
   "metadata": {},
   "outputs": [
    {
     "name": "stdout",
     "output_type": "stream",
     "text": [
      "0\n",
      "1\n",
      "2\n",
      "3\n",
      "4\n",
      "5\n",
      "6\n",
      "7\n",
      "8\n",
      "9\n"
     ]
    }
   ],
   "source": [
    "for i in range(10): # Move mouse in a square 10 times\n",
    "    print(i)\n",
    "    pyautogui.moveTo(100, 100, duration=0.25)\n",
    "    pyautogui.moveTo(200, 100, duration=0.25)\n",
    "    pyautogui.moveTo(200, 200, duration=0.25)\n",
    "    pyautogui.moveTo(100, 200, duration=0.25)"
   ]
  },
  {
   "cell_type": "code",
   "execution_count": 11,
   "metadata": {},
   "outputs": [],
   "source": [
    "for i in range(10):\n",
    "    pyautogui.move(100, 0, duration=0.25)   # right\n",
    "    pyautogui.move(0, 100, duration=0.25)   # down\n",
    "    pyautogui.move(-100, 0, duration=0.25)  # left\n",
    "    pyautogui.move(0, -100, duration=0.25)  # up"
   ]
  },
  {
   "cell_type": "code",
   "execution_count": 12,
   "metadata": {},
   "outputs": [],
   "source": [
    "pyautogui.drag(100, 0, duration=0.2) "
   ]
  },
  {
   "cell_type": "code",
   "execution_count": 13,
   "metadata": {},
   "outputs": [],
   "source": [
    "pyautogui.drag(100, 0, duration=0.2) "
   ]
  },
  {
   "cell_type": "code",
   "execution_count": 1,
   "metadata": {},
   "outputs": [],
   "source": [
    "# Code to draw a spiral\n",
    "import pyautogui, time\n",
    "time.sleep(5) # after 5 seconds delays\n",
    "pyautogui.click()    # Click to make the window active.\n",
    "distance = 300\n",
    "change = 20\n",
    "while distance > 0:\n",
    "    pyautogui.drag(distance, 0, duration=0.2)   # Move right.\n",
    "    distance = distance - change\n",
    "    pyautogui.drag(0, distance, duration=0.2)   # Move down.\n",
    "    pyautogui.drag(-distance, 0, duration=0.2)  # Move left.\n",
    "    distance = distance - change\n",
    "    pyautogui.drag(0, -distance, duration=0.2)  # Move up."
   ]
  },
  {
   "cell_type": "code",
   "execution_count": 2,
   "metadata": {},
   "outputs": [
    {
     "name": "stdout",
     "output_type": "stream",
     "text": [
      "Press ENTER to begin. Afterward, press ENTER to \"click\" the stopwatch. Press ENTER again to stop it!\n",
      "4\n",
      "Started.\n",
      "4\n",
      "Time taken: 1.64 \n",
      "\n",
      "Done.\n"
     ]
    }
   ],
   "source": [
    "import time\n",
    "\n",
    "print('Press ENTER to begin. Afterward, press ENTER to \"click\" the stopwatch. Press ENTER again to stop it!')\n",
    "input()                    # press Enter to begin\n",
    "print('Started.')\n",
    "startTime = time.time()    # Set current time as the start time\n",
    "input()                    # Press Enter to stop\n",
    "totalTime = round(time.time() - startTime, 2) # On stopping the stopwatch, get the difference between the current time \n",
    "                                              # and start time rounded to 2 decimal places\n",
    "print('Time taken: %s ' % (totalTime), end='')\n",
    "print('\\n\\nDone.')"
   ]
  },
  {
   "cell_type": "code",
   "execution_count": 3,
   "metadata": {},
   "outputs": [
    {
     "name": "stdout",
     "output_type": "stream",
     "text": [
      "1\n",
      "2\n",
      "3\n"
     ]
    }
   ],
   "source": [
    "D = {1:['Raj', 22], 2:['Simran', 21], 3:['Rahul', 40]}\n",
    "for val in D:\n",
    "     print(val)"
   ]
  },
  {
   "cell_type": "code",
   "execution_count": 4,
   "metadata": {},
   "outputs": [
    {
     "data": {
      "text/plain": [
       "1"
      ]
     },
     "execution_count": 4,
     "metadata": {},
     "output_type": "execute_result"
    }
   ],
   "source": [
    "Num= ((500//7) % 5) ** 3\n",
    "Num"
   ]
  },
  {
   "cell_type": "code",
   "execution_count": 5,
   "metadata": {},
   "outputs": [],
   "source": [
    "T = (3, 5, 7, 11):"
   ]
  },
  {
   "cell_type": "code",
   "execution_count": 7,
   "metadata": {},
   "outputs": [
    {
     "ename": "AttributeError",
     "evalue": "'tuple' object has no attribute 'append'",
     "output_type": "error",
     "traceback": [
      "\u001b[1;31m---------------------------------------------------------------------------\u001b[0m",
      "\u001b[1;31mAttributeError\u001b[0m                            Traceback (most recent call last)",
      "\u001b[1;32m<ipython-input-7-7ebb4524fcfc>\u001b[0m in \u001b[0;36m<module>\u001b[1;34m\u001b[0m\n\u001b[1;32m----> 1\u001b[1;33m \u001b[0mT\u001b[0m\u001b[1;33m.\u001b[0m\u001b[0mappend\u001b[0m\u001b[1;33m(\u001b[0m\u001b[1;36m9\u001b[0m\u001b[1;33m)\u001b[0m\u001b[1;33m\u001b[0m\u001b[1;33m\u001b[0m\u001b[0m\n\u001b[0m",
      "\u001b[1;31mAttributeError\u001b[0m: 'tuple' object has no attribute 'append'"
     ]
    }
   ],
   "source": [
    "T.append(9) "
   ]
  },
  {
   "cell_type": "code",
   "execution_count": null,
   "metadata": {},
   "outputs": [],
   "source": []
  }
 ],
 "metadata": {
  "kernelspec": {
   "display_name": "Python 3",
   "language": "python",
   "name": "python3"
  },
  "language_info": {
   "codemirror_mode": {
    "name": "ipython",
    "version": 3
   },
   "file_extension": ".py",
   "mimetype": "text/x-python",
   "name": "python",
   "nbconvert_exporter": "python",
   "pygments_lexer": "ipython3",
   "version": "3.7.6"
  }
 },
 "nbformat": 4,
 "nbformat_minor": 4
}
